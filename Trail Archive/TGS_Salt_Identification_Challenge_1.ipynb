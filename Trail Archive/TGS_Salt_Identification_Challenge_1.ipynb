{
  "nbformat": 4,
  "nbformat_minor": 0,
  "metadata": {
    "colab": {
      "name": "TGS Salt Identification Challenge.ipynb",
      "version": "0.3.2",
      "provenance": [],
      "collapsed_sections": [],
      "toc_visible": true
    },
    "kernelspec": {
      "name": "python3",
      "display_name": "Python 3"
    },
    "accelerator": "GPU"
  },
  "cells": [
    {
      "cell_type": "code",
      "metadata": {
        "id": "zDuvxFFRD5Xs",
        "colab_type": "code",
        "colab": {}
      },
      "source": [
        "from google.colab import files\n",
        "files.upload()"
      ],
      "execution_count": 0,
      "outputs": []
    },
    {
      "cell_type": "code",
      "metadata": {
        "id": "7KruBMA886Oi",
        "colab_type": "code",
        "outputId": "df8f6896-e673-4023-d8b2-4401a3696383",
        "colab": {
          "base_uri": "https://localhost:8080/",
          "height": 309
        }
      },
      "source": [
        "!mkdir /root/.kaggle\n",
        "!mv kaggle.json /root/.kaggle/\n",
        "!kaggle competitions download -c tgs-salt-identification-challenge\n",
        "!unzip -q train.zip\n",
        "!unzip -q test.zip\n",
        "!rm train.zip test.zip"
      ],
      "execution_count": 0,
      "outputs": [
        {
          "output_type": "stream",
          "text": [
            "Warning: Your Kaggle API key is readable by other users on this system! To fix this, you can run 'chmod 600 /root/.kaggle/kaggle.json'\n",
            "Downloading depths.csv to /content\n",
            "  0% 0.00/322k [00:00<?, ?B/s]\n",
            "100% 322k/322k [00:00<00:00, 49.6MB/s]\n",
            "Downloading sample_submission.csv to /content\n",
            "  0% 0.00/264k [00:00<?, ?B/s]\n",
            "100% 264k/264k [00:00<00:00, 77.2MB/s]\n",
            "Downloading train.csv to /content\n",
            "  0% 0.00/922k [00:00<?, ?B/s]\n",
            "100% 922k/922k [00:00<00:00, 60.6MB/s]\n",
            "Downloading test.zip to /content\n",
            " 99% 161M/163M [00:03<00:00, 37.9MB/s]\n",
            "100% 163M/163M [00:03<00:00, 47.9MB/s]\n",
            "Downloading train.zip to /content\n",
            " 90% 34.0M/37.9M [00:00<00:00, 20.3MB/s]\n",
            "100% 37.9M/37.9M [00:00<00:00, 48.6MB/s]\n"
          ],
          "name": "stdout"
        }
      ]
    },
    {
      "cell_type": "markdown",
      "metadata": {
        "id": "s34uu8dgZuEa",
        "colab_type": "text"
      },
      "source": [
        "### TGT Salt Classification Challenge\n"
      ]
    },
    {
      "cell_type": "code",
      "metadata": {
        "id": "IKjCelQziyZS",
        "colab_type": "code",
        "outputId": "6d92bb29-ff3d-4609-8156-e9f0ff43a70c",
        "colab": {
          "base_uri": "https://localhost:8080/",
          "height": 34
        }
      },
      "source": [
        "import numpy as np\n",
        "from keras.preprocessing.image import img_to_array\n",
        "import cv2\n",
        "def rle_to_output(x):\n",
        "  if type(x)!=np.float:\n",
        "    x = list(map(int, x.split(' ')))\n",
        "    out = np.zeros(101*101,dtype=np.int64)\n",
        "    for i in range(0,len(x),2):\n",
        "      out[ x[i]-1:x[i+1]+x[i]-1 ] = 1\n",
        "    return np.reshape(np.array(out),(101,101)).T\n",
        "  else:\n",
        "    return np.zeros((101,101),dtype=np.int64)"
      ],
      "execution_count": 1,
      "outputs": [
        {
          "output_type": "stream",
          "text": [
            "Using TensorFlow backend.\n"
          ],
          "name": "stderr"
        }
      ]
    },
    {
      "cell_type": "code",
      "metadata": {
        "id": "x9EqiAkx-NmQ",
        "colab_type": "code",
        "outputId": "c2bfeb49-3863-43ec-b9b0-373e13939b31",
        "colab": {
          "base_uri": "https://localhost:8080/",
          "height": 204
        }
      },
      "source": [
        "import glob\n",
        "import pandas as pd\n",
        "\n",
        "data = pd.read_csv('train.csv')\n",
        "depths = pd.read_csv('depths.csv')\n",
        "data = pd.merge(data,depths,on='id',how='left')\n",
        "X = data.id.apply(lambda x: \"masks/\"+str(x)+'.png')\n",
        "Y = data.rle_mask.apply(rle_to_output)\n",
        "Z = data.z\n",
        "data.head(5)"
      ],
      "execution_count": 2,
      "outputs": [
        {
          "output_type": "execute_result",
          "data": {
            "text/html": [
              "<div>\n",
              "<style scoped>\n",
              "    .dataframe tbody tr th:only-of-type {\n",
              "        vertical-align: middle;\n",
              "    }\n",
              "\n",
              "    .dataframe tbody tr th {\n",
              "        vertical-align: top;\n",
              "    }\n",
              "\n",
              "    .dataframe thead th {\n",
              "        text-align: right;\n",
              "    }\n",
              "</style>\n",
              "<table border=\"1\" class=\"dataframe\">\n",
              "  <thead>\n",
              "    <tr style=\"text-align: right;\">\n",
              "      <th></th>\n",
              "      <th>id</th>\n",
              "      <th>rle_mask</th>\n",
              "      <th>z</th>\n",
              "    </tr>\n",
              "  </thead>\n",
              "  <tbody>\n",
              "    <tr>\n",
              "      <th>0</th>\n",
              "      <td>575d24d81d</td>\n",
              "      <td>NaN</td>\n",
              "      <td>843</td>\n",
              "    </tr>\n",
              "    <tr>\n",
              "      <th>1</th>\n",
              "      <td>a266a2a9df</td>\n",
              "      <td>5051 5151</td>\n",
              "      <td>794</td>\n",
              "    </tr>\n",
              "    <tr>\n",
              "      <th>2</th>\n",
              "      <td>75efad62c1</td>\n",
              "      <td>9 93 109 94 210 94 310 95 411 95 511 96 612 96...</td>\n",
              "      <td>468</td>\n",
              "    </tr>\n",
              "    <tr>\n",
              "      <th>3</th>\n",
              "      <td>34e51dba6a</td>\n",
              "      <td>48 54 149 54 251 53 353 52 455 51 557 50 659 4...</td>\n",
              "      <td>727</td>\n",
              "    </tr>\n",
              "    <tr>\n",
              "      <th>4</th>\n",
              "      <td>4875705fb0</td>\n",
              "      <td>1111 1 1212 1 1313 1 1414 1 1514 2 1615 2 1716...</td>\n",
              "      <td>797</td>\n",
              "    </tr>\n",
              "  </tbody>\n",
              "</table>\n",
              "</div>"
            ],
            "text/plain": [
              "           id                                           rle_mask    z\n",
              "0  575d24d81d                                                NaN  843\n",
              "1  a266a2a9df                                          5051 5151  794\n",
              "2  75efad62c1  9 93 109 94 210 94 310 95 411 95 511 96 612 96...  468\n",
              "3  34e51dba6a  48 54 149 54 251 53 353 52 455 51 557 50 659 4...  727\n",
              "4  4875705fb0  1111 1 1212 1 1313 1 1414 1 1514 2 1615 2 1716...  797"
            ]
          },
          "metadata": {
            "tags": []
          },
          "execution_count": 2
        }
      ]
    },
    {
      "cell_type": "markdown",
      "metadata": {
        "id": "cRPP_p2FImMQ",
        "colab_type": "text"
      },
      "source": [
        "### Basic Visualization"
      ]
    },
    {
      "cell_type": "code",
      "metadata": {
        "id": "t2WP-6LRIjfo",
        "colab_type": "code",
        "outputId": "8564b6a2-6bc5-445d-cce5-4c4fe9ea4786",
        "colab": {
          "base_uri": "https://localhost:8080/",
          "height": 378
        }
      },
      "source": [
        "import matplotlib.pyplot as plt\n",
        "import cv2\n",
        "%matplotlib inline\n",
        "fig,ax = plt.subplots(nrows=2,ncols=4,figsize=(14,6))\n",
        "indexs=[15,511,1130,3452]\n",
        "for index,l in zip(indexs,[(0,0),(0,2),(1,0),(1,2)]):\n",
        "  im = cv2.imread('images/{}.png'.format(data.iloc[index].id))\n",
        "  ax[l[0]][l[1]].imshow(im)\n",
        "  ax[l[0]][l[1]+1].imshow(Y.values[index])"
      ],
      "execution_count": 3,
      "outputs": [
        {
          "output_type": "display_data",
          "data": {
            "image/png": "[encoded data removed]",
            "text/plain": [
              "<Figure size 1008x432 with 8 Axes>"
            ]
          },
          "metadata": {
            "tags": []
          }
        }
      ]
    },
    {
      "cell_type": "code",
      "metadata": {
        "id": "1NgR2c6U-hCg",
        "colab_type": "code",
        "outputId": "86a1c5f5-17cc-4b08-a6dc-131bd7d02a40",
        "colab": {
          "base_uri": "https://localhost:8080/",
          "height": 51
        }
      },
      "source": [
        "all_images = glob.glob('masks/*')\n",
        "print(len(all_images), X.shape)\n",
        "\n",
        "IMG_DIM = (128,128,3)\n",
        "\n",
        "from keras.preprocessing.image import img_to_array, load_img, ImageDataGenerator\n",
        "imgs = np.array([ img_to_array( load_img(file, target_size = IMG_DIM ) ) for file in X.values ])\n",
        "Y = np.array([ np.expand_dims(cv2.resize( img_to_array(x), (128,128), interpolation = cv2.INTER_AREA ),axis=-1) for x in Y.values ])\n",
        "\n",
        "print(imgs.shape,Y.shape,Z.shape)"
      ],
      "execution_count": 4,
      "outputs": [
        {
          "output_type": "stream",
          "text": [
            "4000 (4000,)\n",
            "(4000, 128, 128, 3) (4000, 128, 128, 1) (4000,)\n"
          ],
          "name": "stdout"
        }
      ]
    },
    {
      "cell_type": "code",
      "metadata": {
        "id": "_QTuYR3bAzKS",
        "colab_type": "code",
        "colab": {}
      },
      "source": [
        "from sklearn.model_selection import train_test_split\n",
        "X_train,X_val,Y_train,Y_val = train_test_split(imgs,Y,test_size=0.2, )\n",
        "\n",
        "train_datagen = ImageDataGenerator(rescale=1./255)\n",
        "val_datagen = ImageDataGenerator(rescale=1./255)\n",
        "\n",
        "train_generator = train_datagen.flow(X_train, Y_train, batch_size=32)\n",
        "val_generator = val_datagen.flow(X_val, Y_val, batch_size=32)"
      ],
      "execution_count": 0,
      "outputs": []
    },
    {
      "cell_type": "markdown",
      "metadata": {
        "id": "2yqP9MPQkNz-",
        "colab_type": "text"
      },
      "source": [
        "### Implementing a Fully Convolutional Network called UNET for Image Segmentation"
      ]
    },
    {
      "cell_type": "code",
      "metadata": {
        "id": "kHg2yXBIDgKJ",
        "colab_type": "code",
        "outputId": "bee4659d-7a1b-45c2-9a37-adbf8090d390",
        "colab": {
          "base_uri": "https://localhost:8080/",
          "height": 1465
        }
      },
      "source": [
        "from keras.layers import Conv2D, MaxPooling2D, Conv2DTranspose, concatenate\n",
        "from keras import optimizers\n",
        "from keras.applications import VGG16\n",
        "from keras.models import Model\n",
        "\n",
        "vgg = VGG16(weights='imagenet',include_top=False, input_shape=IMG_DIM)\n",
        "vgg.layers.pop()\n",
        "vgg.trainable=False\n",
        "for layer in vgg.layers[:-3]:\n",
        "    layer.trainable = False\n",
        "\n",
        "def conv2d_block( input_tensor, n_filters, kernel_size = (3,3)):\n",
        "  \"Add 2 conv layer\"\n",
        "  x = Conv2D(filters=n_filters, kernel_size=kernel_size, kernel_initializer='he_normal', \n",
        "             padding='same',activation=\"relu\")(input_tensor)\n",
        "  \n",
        "  x = Conv2D(filters=n_filters, kernel_size=kernel_size, kernel_initializer='he_normal', \n",
        "             padding='same',activation=\"relu\")(x)\n",
        "  return x\n",
        "\n",
        "u1 = Conv2DTranspose(512, (3, 3), strides = (2, 2), padding = 'same')(vgg.get_layer('block5_conv3').output)\n",
        "u1 = concatenate([u1,vgg.get_layer('block4_conv3').output])\n",
        "c1 = conv2d_block(u1, 512)\n",
        "\n",
        "\n",
        "u2 = Conv2DTranspose(256, (3, 3), strides = (2, 2), padding = 'same')(c1)\n",
        "u2 = concatenate([u2,vgg.get_layer('block3_conv3').output])\n",
        "c2 = conv2d_block(u2, 256)\n",
        "\n",
        "u3 = Conv2DTranspose(128, (3, 3), strides = (2, 2), padding = 'same')(c2)\n",
        "u3 = concatenate([u3,vgg.get_layer('block2_conv2').output])\n",
        "c3 = conv2d_block(u3, 128)\n",
        "\n",
        "u4 = Conv2DTranspose(64, (3, 3), strides = (2, 2), padding = 'same')(c3)\n",
        "u4 = concatenate([u4,vgg.get_layer('block1_conv2').output])\n",
        "c4 = conv2d_block(u4, 64)\n",
        "\n",
        "output = Conv2D(1, (1, 1), activation='sigmoid')(c4)\n",
        "\n",
        "\n",
        "unet = Model(vgg.input, output)\n",
        "  \n",
        "\n",
        "unet.compile(optimizer=optimizers.Adam(lr=1e-4), loss='binary_crossentropy', metrics=['accuracy'])\n",
        "\n",
        "unet.summary()"
      ],
      "execution_count": 6,
      "outputs": [
        {
          "output_type": "stream",
          "text": [
            "WARNING:tensorflow:From /usr/local/lib/python3.6/dist-packages/tensorflow/python/framework/op_def_library.py:263: colocate_with (from tensorflow.python.framework.ops) is deprecated and will be removed in a future version.\n",
            "Instructions for updating:\n",
            "Colocations handled automatically by placer.\n",
            "__________________________________________________________________________________________________\n",
            "Layer (type)                    Output Shape         Param #     Connected to                     \n",
            "==================================================================================================\n",
            "input_1 (InputLayer)            (None, 128, 128, 3)  0                                            \n",
            "__________________________________________________________________________________________________\n",
            "block1_conv1 (Conv2D)           (None, 128, 128, 64) 1792        input_1[0][0]                    \n",
            "__________________________________________________________________________________________________\n",
            "block1_conv2 (Conv2D)           (None, 128, 128, 64) 36928       block1_conv1[0][0]               \n",
            "__________________________________________________________________________________________________\n",
            "block1_pool (MaxPooling2D)      (None, 64, 64, 64)   0           block1_conv2[0][0]               \n",
            "__________________________________________________________________________________________________\n",
            "block2_conv1 (Conv2D)           (None, 64, 64, 128)  73856       block1_pool[0][0]                \n",
            "__________________________________________________________________________________________________\n",
            "block2_conv2 (Conv2D)           (None, 64, 64, 128)  147584      block2_conv1[0][0]               \n",
            "__________________________________________________________________________________________________\n",
            "block2_pool (MaxPooling2D)      (None, 32, 32, 128)  0           block2_conv2[0][0]               \n",
            "__________________________________________________________________________________________________\n",
            "block3_conv1 (Conv2D)           (None, 32, 32, 256)  295168      block2_pool[0][0]                \n",
            "__________________________________________________________________________________________________\n",
            "block3_conv2 (Conv2D)           (None, 32, 32, 256)  590080      block3_conv1[0][0]               \n",
            "__________________________________________________________________________________________________\n",
            "block3_conv3 (Conv2D)           (None, 32, 32, 256)  590080      block3_conv2[0][0]               \n",
            "__________________________________________________________________________________________________\n",
            "block3_pool (MaxPooling2D)      (None, 16, 16, 256)  0           block3_conv3[0][0]               \n",
            "__________________________________________________________________________________________________\n",
            "block4_conv1 (Conv2D)           (None, 16, 16, 512)  1180160     block3_pool[0][0]                \n",
            "__________________________________________________________________________________________________\n",
            "block4_conv2 (Conv2D)           (None, 16, 16, 512)  2359808     block4_conv1[0][0]               \n",
            "__________________________________________________________________________________________________\n",
            "block4_conv3 (Conv2D)           (None, 16, 16, 512)  2359808     block4_conv2[0][0]               \n",
            "__________________________________________________________________________________________________\n",
            "block4_pool (MaxPooling2D)      (None, 8, 8, 512)    0           block4_conv3[0][0]               \n",
            "__________________________________________________________________________________________________\n",
            "block5_conv1 (Conv2D)           (None, 8, 8, 512)    2359808     block4_pool[0][0]                \n",
            "__________________________________________________________________________________________________\n",
            "block5_conv2 (Conv2D)           (None, 8, 8, 512)    2359808     block5_conv1[0][0]               \n",
            "__________________________________________________________________________________________________\n",
            "block5_conv3 (Conv2D)           (None, 8, 8, 512)    2359808     block5_conv2[0][0]               \n",
            "__________________________________________________________________________________________________\n",
            "conv2d_transpose_1 (Conv2DTrans (None, 16, 16, 512)  2359808     block5_conv3[0][0]               \n",
            "__________________________________________________________________________________________________\n",
            "concatenate_1 (Concatenate)     (None, 16, 16, 1024) 0           conv2d_transpose_1[0][0]         \n",
            "                                                                 block4_conv3[0][0]               \n",
            "__________________________________________________________________________________________________\n",
            "conv2d_1 (Conv2D)               (None, 16, 16, 512)  4719104     concatenate_1[0][0]              \n",
            "__________________________________________________________________________________________________\n",
            "conv2d_2 (Conv2D)               (None, 16, 16, 512)  2359808     conv2d_1[0][0]                   \n",
            "__________________________________________________________________________________________________\n",
            "conv2d_transpose_2 (Conv2DTrans (None, 32, 32, 256)  1179904     conv2d_2[0][0]                   \n",
            "__________________________________________________________________________________________________\n",
            "concatenate_2 (Concatenate)     (None, 32, 32, 512)  0           conv2d_transpose_2[0][0]         \n",
            "                                                                 block3_conv3[0][0]               \n",
            "__________________________________________________________________________________________________\n",
            "conv2d_3 (Conv2D)               (None, 32, 32, 256)  1179904     concatenate_2[0][0]              \n",
            "__________________________________________________________________________________________________\n",
            "conv2d_4 (Conv2D)               (None, 32, 32, 256)  590080      conv2d_3[0][0]                   \n",
            "__________________________________________________________________________________________________\n",
            "conv2d_transpose_3 (Conv2DTrans (None, 64, 64, 128)  295040      conv2d_4[0][0]                   \n",
            "__________________________________________________________________________________________________\n",
            "concatenate_3 (Concatenate)     (None, 64, 64, 256)  0           conv2d_transpose_3[0][0]         \n",
            "                                                                 block2_conv2[0][0]               \n",
            "__________________________________________________________________________________________________\n",
            "conv2d_5 (Conv2D)               (None, 64, 64, 128)  295040      concatenate_3[0][0]              \n",
            "__________________________________________________________________________________________________\n",
            "conv2d_6 (Conv2D)               (None, 64, 64, 128)  147584      conv2d_5[0][0]                   \n",
            "__________________________________________________________________________________________________\n",
            "conv2d_transpose_4 (Conv2DTrans (None, 128, 128, 64) 73792       conv2d_6[0][0]                   \n",
            "__________________________________________________________________________________________________\n",
            "concatenate_4 (Concatenate)     (None, 128, 128, 128 0           conv2d_transpose_4[0][0]         \n",
            "                                                                 block1_conv2[0][0]               \n",
            "__________________________________________________________________________________________________\n",
            "conv2d_7 (Conv2D)               (None, 128, 128, 64) 73792       concatenate_4[0][0]              \n",
            "__________________________________________________________________________________________________\n",
            "conv2d_8 (Conv2D)               (None, 128, 128, 64) 36928       conv2d_7[0][0]                   \n",
            "__________________________________________________________________________________________________\n",
            "conv2d_9 (Conv2D)               (None, 128, 128, 1)  65          conv2d_8[0][0]                   \n",
            "==================================================================================================\n",
            "Total params: 28,025,537\n",
            "Trainable params: 20,390,273\n",
            "Non-trainable params: 7,635,264\n",
            "__________________________________________________________________________________________________\n"
          ],
          "name": "stdout"
        }
      ]
    },
    {
      "cell_type": "code",
      "metadata": {
        "id": "liAPF6lH80Gy",
        "colab_type": "code",
        "outputId": "1661ccc3-7101-463d-e5de-94e3e128dc28",
        "colab": {
          "base_uri": "https://localhost:8080/",
          "height": 1134
        }
      },
      "source": [
        "layers = [(layer, layer.name, layer.trainable) for layer in unet.layers]\n",
        "pd.DataFrame(layers, columns=['Layer Type', 'Layer Name', 'Layer Trainable'])"
      ],
      "execution_count": 7,
      "outputs": [
        {
          "output_type": "execute_result",
          "data": {
            "text/html": [
              "<div>\n",
              "<style scoped>\n",
              "    .dataframe tbody tr th:only-of-type {\n",
              "        vertical-align: middle;\n",
              "    }\n",
              "\n",
              "    .dataframe tbody tr th {\n",
              "        vertical-align: top;\n",
              "    }\n",
              "\n",
              "    .dataframe thead th {\n",
              "        text-align: right;\n",
              "    }\n",
              "</style>\n",
              "<table border=\"1\" class=\"dataframe\">\n",
              "  <thead>\n",
              "    <tr style=\"text-align: right;\">\n",
              "      <th></th>\n",
              "      <th>Layer Type</th>\n",
              "      <th>Layer Name</th>\n",
              "      <th>Layer Trainable</th>\n",
              "    </tr>\n",
              "  </thead>\n",
              "  <tbody>\n",
              "    <tr>\n",
              "      <th>0</th>\n",
              "      <td>&lt;keras.engine.input_layer.InputLayer object at...</td>\n",
              "      <td>input_1</td>\n",
              "      <td>False</td>\n",
              "    </tr>\n",
              "    <tr>\n",
              "      <th>1</th>\n",
              "      <td>&lt;keras.layers.convolutional.Conv2D object at 0...</td>\n",
              "      <td>block1_conv1</td>\n",
              "      <td>False</td>\n",
              "    </tr>\n",
              "    <tr>\n",
              "      <th>2</th>\n",
              "      <td>&lt;keras.layers.convolutional.Conv2D object at 0...</td>\n",
              "      <td>block1_conv2</td>\n",
              "      <td>False</td>\n",
              "    </tr>\n",
              "    <tr>\n",
              "      <th>3</th>\n",
              "      <td>&lt;keras.layers.pooling.MaxPooling2D object at 0...</td>\n",
              "      <td>block1_pool</td>\n",
              "      <td>False</td>\n",
              "    </tr>\n",
              "    <tr>\n",
              "      <th>4</th>\n",
              "      <td>&lt;keras.layers.convolutional.Conv2D object at 0...</td>\n",
              "      <td>block2_conv1</td>\n",
              "      <td>False</td>\n",
              "    </tr>\n",
              "    <tr>\n",
              "      <th>5</th>\n",
              "      <td>&lt;keras.layers.convolutional.Conv2D object at 0...</td>\n",
              "      <td>block2_conv2</td>\n",
              "      <td>False</td>\n",
              "    </tr>\n",
              "    <tr>\n",
              "      <th>6</th>\n",
              "      <td>&lt;keras.layers.pooling.MaxPooling2D object at 0...</td>\n",
              "      <td>block2_pool</td>\n",
              "      <td>False</td>\n",
              "    </tr>\n",
              "    <tr>\n",
              "      <th>7</th>\n",
              "      <td>&lt;keras.layers.convolutional.Conv2D object at 0...</td>\n",
              "      <td>block3_conv1</td>\n",
              "      <td>False</td>\n",
              "    </tr>\n",
              "    <tr>\n",
              "      <th>8</th>\n",
              "      <td>&lt;keras.layers.convolutional.Conv2D object at 0...</td>\n",
              "      <td>block3_conv2</td>\n",
              "      <td>False</td>\n",
              "    </tr>\n",
              "    <tr>\n",
              "      <th>9</th>\n",
              "      <td>&lt;keras.layers.convolutional.Conv2D object at 0...</td>\n",
              "      <td>block3_conv3</td>\n",
              "      <td>False</td>\n",
              "    </tr>\n",
              "    <tr>\n",
              "      <th>10</th>\n",
              "      <td>&lt;keras.layers.pooling.MaxPooling2D object at 0...</td>\n",
              "      <td>block3_pool</td>\n",
              "      <td>False</td>\n",
              "    </tr>\n",
              "    <tr>\n",
              "      <th>11</th>\n",
              "      <td>&lt;keras.layers.convolutional.Conv2D object at 0...</td>\n",
              "      <td>block4_conv1</td>\n",
              "      <td>False</td>\n",
              "    </tr>\n",
              "    <tr>\n",
              "      <th>12</th>\n",
              "      <td>&lt;keras.layers.convolutional.Conv2D object at 0...</td>\n",
              "      <td>block4_conv2</td>\n",
              "      <td>False</td>\n",
              "    </tr>\n",
              "    <tr>\n",
              "      <th>13</th>\n",
              "      <td>&lt;keras.layers.convolutional.Conv2D object at 0...</td>\n",
              "      <td>block4_conv3</td>\n",
              "      <td>False</td>\n",
              "    </tr>\n",
              "    <tr>\n",
              "      <th>14</th>\n",
              "      <td>&lt;keras.layers.pooling.MaxPooling2D object at 0...</td>\n",
              "      <td>block4_pool</td>\n",
              "      <td>False</td>\n",
              "    </tr>\n",
              "    <tr>\n",
              "      <th>15</th>\n",
              "      <td>&lt;keras.layers.convolutional.Conv2D object at 0...</td>\n",
              "      <td>block5_conv1</td>\n",
              "      <td>True</td>\n",
              "    </tr>\n",
              "    <tr>\n",
              "      <th>16</th>\n",
              "      <td>&lt;keras.layers.convolutional.Conv2D object at 0...</td>\n",
              "      <td>block5_conv2</td>\n",
              "      <td>True</td>\n",
              "    </tr>\n",
              "    <tr>\n",
              "      <th>17</th>\n",
              "      <td>&lt;keras.layers.convolutional.Conv2D object at 0...</td>\n",
              "      <td>block5_conv3</td>\n",
              "      <td>True</td>\n",
              "    </tr>\n",
              "    <tr>\n",
              "      <th>18</th>\n",
              "      <td>&lt;keras.layers.convolutional.Conv2DTranspose ob...</td>\n",
              "      <td>conv2d_transpose_1</td>\n",
              "      <td>True</td>\n",
              "    </tr>\n",
              "    <tr>\n",
              "      <th>19</th>\n",
              "      <td>&lt;keras.layers.merge.Concatenate object at 0x7f...</td>\n",
              "      <td>concatenate_1</td>\n",
              "      <td>True</td>\n",
              "    </tr>\n",
              "    <tr>\n",
              "      <th>20</th>\n",
              "      <td>&lt;keras.layers.convolutional.Conv2D object at 0...</td>\n",
              "      <td>conv2d_1</td>\n",
              "      <td>True</td>\n",
              "    </tr>\n",
              "    <tr>\n",
              "      <th>21</th>\n",
              "      <td>&lt;keras.layers.convolutional.Conv2D object at 0...</td>\n",
              "      <td>conv2d_2</td>\n",
              "      <td>True</td>\n",
              "    </tr>\n",
              "    <tr>\n",
              "      <th>22</th>\n",
              "      <td>&lt;keras.layers.convolutional.Conv2DTranspose ob...</td>\n",
              "      <td>conv2d_transpose_2</td>\n",
              "      <td>True</td>\n",
              "    </tr>\n",
              "    <tr>\n",
              "      <th>23</th>\n",
              "      <td>&lt;keras.layers.merge.Concatenate object at 0x7f...</td>\n",
              "      <td>concatenate_2</td>\n",
              "      <td>True</td>\n",
              "    </tr>\n",
              "    <tr>\n",
              "      <th>24</th>\n",
              "      <td>&lt;keras.layers.convolutional.Conv2D object at 0...</td>\n",
              "      <td>conv2d_3</td>\n",
              "      <td>True</td>\n",
              "    </tr>\n",
              "    <tr>\n",
              "      <th>25</th>\n",
              "      <td>&lt;keras.layers.convolutional.Conv2D object at 0...</td>\n",
              "      <td>conv2d_4</td>\n",
              "      <td>True</td>\n",
              "    </tr>\n",
              "    <tr>\n",
              "      <th>26</th>\n",
              "      <td>&lt;keras.layers.convolutional.Conv2DTranspose ob...</td>\n",
              "      <td>conv2d_transpose_3</td>\n",
              "      <td>True</td>\n",
              "    </tr>\n",
              "    <tr>\n",
              "      <th>27</th>\n",
              "      <td>&lt;keras.layers.merge.Concatenate object at 0x7f...</td>\n",
              "      <td>concatenate_3</td>\n",
              "      <td>True</td>\n",
              "    </tr>\n",
              "    <tr>\n",
              "      <th>28</th>\n",
              "      <td>&lt;keras.layers.convolutional.Conv2D object at 0...</td>\n",
              "      <td>conv2d_5</td>\n",
              "      <td>True</td>\n",
              "    </tr>\n",
              "    <tr>\n",
              "      <th>29</th>\n",
              "      <td>&lt;keras.layers.convolutional.Conv2D object at 0...</td>\n",
              "      <td>conv2d_6</td>\n",
              "      <td>True</td>\n",
              "    </tr>\n",
              "    <tr>\n",
              "      <th>30</th>\n",
              "      <td>&lt;keras.layers.convolutional.Conv2DTranspose ob...</td>\n",
              "      <td>conv2d_transpose_4</td>\n",
              "      <td>True</td>\n",
              "    </tr>\n",
              "    <tr>\n",
              "      <th>31</th>\n",
              "      <td>&lt;keras.layers.merge.Concatenate object at 0x7f...</td>\n",
              "      <td>concatenate_4</td>\n",
              "      <td>True</td>\n",
              "    </tr>\n",
              "    <tr>\n",
              "      <th>32</th>\n",
              "      <td>&lt;keras.layers.convolutional.Conv2D object at 0...</td>\n",
              "      <td>conv2d_7</td>\n",
              "      <td>True</td>\n",
              "    </tr>\n",
              "    <tr>\n",
              "      <th>33</th>\n",
              "      <td>&lt;keras.layers.convolutional.Conv2D object at 0...</td>\n",
              "      <td>conv2d_8</td>\n",
              "      <td>True</td>\n",
              "    </tr>\n",
              "    <tr>\n",
              "      <th>34</th>\n",
              "      <td>&lt;keras.layers.convolutional.Conv2D object at 0...</td>\n",
              "      <td>conv2d_9</td>\n",
              "      <td>True</td>\n",
              "    </tr>\n",
              "  </tbody>\n",
              "</table>\n",
              "</div>"
            ],
            "text/plain": [
              "                                           Layer Type  ... Layer Trainable\n",
              "0   <keras.engine.input_layer.InputLayer object at...  ...           False\n",
              "1   <keras.layers.convolutional.Conv2D object at 0...  ...           False\n",
              "2   <keras.layers.convolutional.Conv2D object at 0...  ...           False\n",
              "3   <keras.layers.pooling.MaxPooling2D object at 0...  ...           False\n",
              "4   <keras.layers.convolutional.Conv2D object at 0...  ...           False\n",
              "5   <keras.layers.convolutional.Conv2D object at 0...  ...           False\n",
              "6   <keras.layers.pooling.MaxPooling2D object at 0...  ...           False\n",
              "7   <keras.layers.convolutional.Conv2D object at 0...  ...           False\n",
              "8   <keras.layers.convolutional.Conv2D object at 0...  ...           False\n",
              "9   <keras.layers.convolutional.Conv2D object at 0...  ...           False\n",
              "10  <keras.layers.pooling.MaxPooling2D object at 0...  ...           False\n",
              "11  <keras.layers.convolutional.Conv2D object at 0...  ...           False\n",
              "12  <keras.layers.convolutional.Conv2D object at 0...  ...           False\n",
              "13  <keras.layers.convolutional.Conv2D object at 0...  ...           False\n",
              "14  <keras.layers.pooling.MaxPooling2D object at 0...  ...           False\n",
              "15  <keras.layers.convolutional.Conv2D object at 0...  ...            True\n",
              "16  <keras.layers.convolutional.Conv2D object at 0...  ...            True\n",
              "17  <keras.layers.convolutional.Conv2D object at 0...  ...            True\n",
              "18  <keras.layers.convolutional.Conv2DTranspose ob...  ...            True\n",
              "19  <keras.layers.merge.Concatenate object at 0x7f...  ...            True\n",
              "20  <keras.layers.convolutional.Conv2D object at 0...  ...            True\n",
              "21  <keras.layers.convolutional.Conv2D object at 0...  ...            True\n",
              "22  <keras.layers.convolutional.Conv2DTranspose ob...  ...            True\n",
              "23  <keras.layers.merge.Concatenate object at 0x7f...  ...            True\n",
              "24  <keras.layers.convolutional.Conv2D object at 0...  ...            True\n",
              "25  <keras.layers.convolutional.Conv2D object at 0...  ...            True\n",
              "26  <keras.layers.convolutional.Conv2DTranspose ob...  ...            True\n",
              "27  <keras.layers.merge.Concatenate object at 0x7f...  ...            True\n",
              "28  <keras.layers.convolutional.Conv2D object at 0...  ...            True\n",
              "29  <keras.layers.convolutional.Conv2D object at 0...  ...            True\n",
              "30  <keras.layers.convolutional.Conv2DTranspose ob...  ...            True\n",
              "31  <keras.layers.merge.Concatenate object at 0x7f...  ...            True\n",
              "32  <keras.layers.convolutional.Conv2D object at 0...  ...            True\n",
              "33  <keras.layers.convolutional.Conv2D object at 0...  ...            True\n",
              "34  <keras.layers.convolutional.Conv2D object at 0...  ...            True\n",
              "\n",
              "[35 rows x 3 columns]"
            ]
          },
          "metadata": {
            "tags": []
          },
          "execution_count": 7
        }
      ]
    },
    {
      "cell_type": "code",
      "metadata": {
        "id": "IVSMiTDCE3es",
        "colab_type": "code",
        "outputId": "7b3ec148-e203-4aef-c750-05cfe6e073e5",
        "colab": {
          "base_uri": "https://localhost:8080/",
          "height": 5120
        }
      },
      "source": [
        "from keras.callbacks import ModelCheckpoint, EarlyStopping\n",
        "\n",
        "model_checkpoint  = ModelCheckpoint('model_best_checkpoint.h5', save_best_only=True, monitor='val_loss', mode='min', verbose=2)\n",
        "early_stopping = EarlyStopping(monitor='val_loss', patience=10, mode='min')\n",
        "\n",
        "callback_list = [model_checkpoint,early_stopping]\n",
        "\n",
        "history = unet.fit_generator(train_generator, steps_per_epoch=20, epochs=300,\n",
        "                              validation_data=val_generator, validation_steps=15, \n",
        "                              verbose=1,callbacks=callback_list)"
      ],
      "execution_count": 8,
      "outputs": [
        {
          "output_type": "stream",
          "text": [
            "WARNING:tensorflow:From /usr/local/lib/python3.6/dist-packages/tensorflow/python/ops/math_ops.py:3066: to_int32 (from tensorflow.python.ops.math_ops) is deprecated and will be removed in a future version.\n",
            "Instructions for updating:\n",
            "Use tf.cast instead.\n",
            "Epoch 1/300\n",
            "20/20 [==============================] - 20s 990ms/step - loss: 0.2676 - acc: 0.9176 - val_loss: 0.0265 - val_acc: 0.9909\n",
            "\n",
            "Epoch 00001: val_loss improved from inf to 0.02651, saving model to model_best_checkpoint.h5\n",
            "Epoch 2/300\n",
            "20/20 [==============================] - 9s 470ms/step - loss: 0.0152 - acc: 0.9925 - val_loss: 0.0090 - val_acc: 0.9939\n",
            "\n",
            "Epoch 00002: val_loss improved from 0.02651 to 0.00900, saving model to model_best_checkpoint.h5\n",
            "Epoch 3/300\n",
            "20/20 [==============================] - 10s 477ms/step - loss: 0.0080 - acc: 0.9939 - val_loss: 0.0070 - val_acc: 0.9942\n",
            "\n",
            "Epoch 00003: val_loss improved from 0.00900 to 0.00700, saving model to model_best_checkpoint.h5\n",
            "Epoch 4/300\n",
            "20/20 [==============================] - 9s 468ms/step - loss: 0.0072 - acc: 0.9936 - val_loss: 0.0068 - val_acc: 0.9937\n",
            "\n",
            "Epoch 00004: val_loss improved from 0.00700 to 0.00676, saving model to model_best_checkpoint.h5\n",
            "Epoch 5/300\n",
            "20/20 [==============================] - 9s 462ms/step - loss: 0.0069 - acc: 0.9933 - val_loss: 0.0063 - val_acc: 0.9936\n",
            "\n",
            "Epoch 00005: val_loss improved from 0.00676 to 0.00626, saving model to model_best_checkpoint.h5\n",
            "Epoch 6/300\n",
            "20/20 [==============================] - 9s 459ms/step - loss: 0.0060 - acc: 0.9937 - val_loss: 0.0058 - val_acc: 0.9938\n",
            "\n",
            "Epoch 00006: val_loss improved from 0.00626 to 0.00576, saving model to model_best_checkpoint.h5\n",
            "Epoch 7/300\n",
            "20/20 [==============================] - 9s 457ms/step - loss: 0.0056 - acc: 0.9939 - val_loss: 0.0052 - val_acc: 0.9941\n",
            "\n",
            "Epoch 00007: val_loss improved from 0.00576 to 0.00522, saving model to model_best_checkpoint.h5\n",
            "Epoch 8/300\n",
            "20/20 [==============================] - 9s 459ms/step - loss: 0.0054 - acc: 0.9937 - val_loss: 0.0055 - val_acc: 0.9936\n",
            "\n",
            "Epoch 00008: val_loss did not improve from 0.00522\n",
            "Epoch 9/300\n",
            "20/20 [==============================] - 9s 460ms/step - loss: 0.0053 - acc: 0.9937 - val_loss: 0.0049 - val_acc: 0.9941\n",
            "\n",
            "Epoch 00009: val_loss improved from 0.00522 to 0.00492, saving model to model_best_checkpoint.h5\n",
            "Epoch 10/300\n",
            "20/20 [==============================] - 9s 463ms/step - loss: 0.0053 - acc: 0.9936 - val_loss: 0.0050 - val_acc: 0.9938\n",
            "\n",
            "Epoch 00010: val_loss did not improve from 0.00492\n",
            "Epoch 11/300\n",
            "20/20 [==============================] - 9s 466ms/step - loss: 0.0051 - acc: 0.9936 - val_loss: 0.0050 - val_acc: 0.9938\n",
            "\n",
            "Epoch 00011: val_loss did not improve from 0.00492\n",
            "Epoch 12/300\n",
            "20/20 [==============================] - 9s 466ms/step - loss: 0.0049 - acc: 0.9938 - val_loss: 0.0048 - val_acc: 0.9940\n",
            "\n",
            "Epoch 00012: val_loss improved from 0.00492 to 0.00477, saving model to model_best_checkpoint.h5\n",
            "Epoch 13/300\n",
            "20/20 [==============================] - 9s 465ms/step - loss: 0.0046 - acc: 0.9940 - val_loss: 0.0047 - val_acc: 0.9940\n",
            "\n",
            "Epoch 00013: val_loss improved from 0.00477 to 0.00466, saving model to model_best_checkpoint.h5\n",
            "Epoch 14/300\n",
            "20/20 [==============================] - 9s 464ms/step - loss: 0.0047 - acc: 0.9939 - val_loss: 0.0045 - val_acc: 0.9941\n",
            "\n",
            "Epoch 00014: val_loss improved from 0.00466 to 0.00451, saving model to model_best_checkpoint.h5\n",
            "Epoch 15/300\n",
            "20/20 [==============================] - 9s 461ms/step - loss: 0.0048 - acc: 0.9937 - val_loss: 0.0046 - val_acc: 0.9938\n",
            "\n",
            "Epoch 00015: val_loss did not improve from 0.00451\n",
            "Epoch 16/300\n",
            "20/20 [==============================] - 9s 461ms/step - loss: 0.0043 - acc: 0.9942 - val_loss: 0.0045 - val_acc: 0.9940\n",
            "\n",
            "Epoch 00016: val_loss improved from 0.00451 to 0.00448, saving model to model_best_checkpoint.h5\n",
            "Epoch 17/300\n",
            "20/20 [==============================] - 9s 460ms/step - loss: 0.0046 - acc: 0.9938 - val_loss: 0.0045 - val_acc: 0.9939\n",
            "\n",
            "Epoch 00017: val_loss did not improve from 0.00448\n",
            "Epoch 18/300\n",
            "20/20 [==============================] - 9s 462ms/step - loss: 0.0048 - acc: 0.9933 - val_loss: 0.0044 - val_acc: 0.9940\n",
            "\n",
            "Epoch 00018: val_loss improved from 0.00448 to 0.00441, saving model to model_best_checkpoint.h5\n",
            "Epoch 19/300\n",
            "20/20 [==============================] - 9s 462ms/step - loss: 0.0043 - acc: 0.9941 - val_loss: 0.0043 - val_acc: 0.9942\n",
            "\n",
            "Epoch 00019: val_loss improved from 0.00441 to 0.00426, saving model to model_best_checkpoint.h5\n",
            "Epoch 20/300\n",
            "20/20 [==============================] - 9s 463ms/step - loss: 0.0046 - acc: 0.9936 - val_loss: 0.0045 - val_acc: 0.9938\n",
            "\n",
            "Epoch 00020: val_loss did not improve from 0.00426\n",
            "Epoch 21/300\n",
            "20/20 [==============================] - 9s 464ms/step - loss: 0.0043 - acc: 0.9939 - val_loss: 0.0044 - val_acc: 0.9940\n",
            "\n",
            "Epoch 00021: val_loss did not improve from 0.00426\n",
            "Epoch 22/300\n",
            "20/20 [==============================] - 9s 464ms/step - loss: 0.0046 - acc: 0.9934 - val_loss: 0.0042 - val_acc: 0.9941\n",
            "\n",
            "Epoch 00022: val_loss improved from 0.00426 to 0.00421, saving model to model_best_checkpoint.h5\n",
            "Epoch 23/300\n",
            "20/20 [==============================] - 9s 463ms/step - loss: 0.0041 - acc: 0.9941 - val_loss: 0.0045 - val_acc: 0.9936\n",
            "\n",
            "Epoch 00023: val_loss did not improve from 0.00421\n",
            "Epoch 24/300\n",
            "20/20 [==============================] - 9s 462ms/step - loss: 0.0043 - acc: 0.9939 - val_loss: 0.0040 - val_acc: 0.9944\n",
            "\n",
            "Epoch 00024: val_loss improved from 0.00421 to 0.00395, saving model to model_best_checkpoint.h5\n",
            "Epoch 25/300\n",
            "20/20 [==============================] - 9s 462ms/step - loss: 0.0043 - acc: 0.9938 - val_loss: 0.0043 - val_acc: 0.9938\n",
            "\n",
            "Epoch 00025: val_loss did not improve from 0.00395\n",
            "Epoch 26/300\n",
            "20/20 [==============================] - 9s 461ms/step - loss: 0.0043 - acc: 0.9938 - val_loss: 0.0043 - val_acc: 0.9939\n",
            "\n",
            "Epoch 00026: val_loss did not improve from 0.00395\n",
            "Epoch 27/300\n",
            "20/20 [==============================] - 9s 461ms/step - loss: 0.0041 - acc: 0.9940 - val_loss: 0.0041 - val_acc: 0.9941\n",
            "\n",
            "Epoch 00027: val_loss did not improve from 0.00395\n",
            "Epoch 28/300\n",
            "20/20 [==============================] - 9s 462ms/step - loss: 0.0042 - acc: 0.9938 - val_loss: 0.0042 - val_acc: 0.9939\n",
            "\n",
            "Epoch 00028: val_loss did not improve from 0.00395\n",
            "Epoch 29/300\n",
            "20/20 [==============================] - 9s 461ms/step - loss: 0.0042 - acc: 0.9937 - val_loss: 0.0041 - val_acc: 0.9942\n",
            "\n",
            "Epoch 00029: val_loss did not improve from 0.00395\n",
            "Epoch 30/300\n",
            "20/20 [==============================] - 9s 462ms/step - loss: 0.0041 - acc: 0.9940 - val_loss: 0.0042 - val_acc: 0.9939\n",
            "\n",
            "Epoch 00030: val_loss did not improve from 0.00395\n",
            "Epoch 31/300\n",
            "20/20 [==============================] - 9s 461ms/step - loss: 0.0042 - acc: 0.9937 - val_loss: 0.0040 - val_acc: 0.9942\n",
            "\n",
            "Epoch 00031: val_loss did not improve from 0.00395\n",
            "Epoch 32/300\n",
            "20/20 [==============================] - 9s 461ms/step - loss: 0.0040 - acc: 0.9940 - val_loss: 0.0043 - val_acc: 0.9937\n",
            "\n",
            "Epoch 00032: val_loss did not improve from 0.00395\n",
            "Epoch 33/300\n",
            "20/20 [==============================] - 9s 460ms/step - loss: 0.0041 - acc: 0.9939 - val_loss: 0.0041 - val_acc: 0.9940\n",
            "\n",
            "Epoch 00033: val_loss did not improve from 0.00395\n",
            "Epoch 34/300\n",
            "20/20 [==============================] - 9s 460ms/step - loss: 0.0042 - acc: 0.9937 - val_loss: 0.0039 - val_acc: 0.9942\n",
            "\n",
            "Epoch 00034: val_loss improved from 0.00395 to 0.00390, saving model to model_best_checkpoint.h5\n",
            "Epoch 35/300\n",
            "20/20 [==============================] - 9s 459ms/step - loss: 0.0040 - acc: 0.9940 - val_loss: 0.0041 - val_acc: 0.9939\n",
            "\n",
            "Epoch 00035: val_loss did not improve from 0.00390\n",
            "Epoch 36/300\n",
            "20/20 [==============================] - 9s 460ms/step - loss: 0.0041 - acc: 0.9938 - val_loss: 0.0038 - val_acc: 0.9943\n",
            "\n",
            "Epoch 00036: val_loss improved from 0.00390 to 0.00385, saving model to model_best_checkpoint.h5\n",
            "Epoch 37/300\n",
            "20/20 [==============================] - 9s 458ms/step - loss: 0.0039 - acc: 0.9941 - val_loss: 0.0041 - val_acc: 0.9939\n",
            "\n",
            "Epoch 00037: val_loss did not improve from 0.00385\n",
            "Epoch 38/300\n",
            "20/20 [==============================] - 9s 459ms/step - loss: 0.0043 - acc: 0.9934 - val_loss: 0.0041 - val_acc: 0.9938\n",
            "\n",
            "Epoch 00038: val_loss did not improve from 0.00385\n",
            "Epoch 39/300\n",
            "20/20 [==============================] - 9s 460ms/step - loss: 0.0038 - acc: 0.9942 - val_loss: 0.0039 - val_acc: 0.9941\n",
            "\n",
            "Epoch 00039: val_loss did not improve from 0.00385\n",
            "Epoch 40/300\n",
            "20/20 [==============================] - 9s 460ms/step - loss: 0.0040 - acc: 0.9939 - val_loss: 0.0040 - val_acc: 0.9940\n",
            "\n",
            "Epoch 00040: val_loss did not improve from 0.00385\n",
            "Epoch 41/300\n",
            "20/20 [==============================] - 9s 460ms/step - loss: 0.0041 - acc: 0.9937 - val_loss: 0.0038 - val_acc: 0.9942\n",
            "\n",
            "Epoch 00041: val_loss improved from 0.00385 to 0.00382, saving model to model_best_checkpoint.h5\n",
            "Epoch 42/300\n",
            "20/20 [==============================] - 9s 460ms/step - loss: 0.0043 - acc: 0.9933 - val_loss: 0.0041 - val_acc: 0.9939\n",
            "\n",
            "Epoch 00042: val_loss did not improve from 0.00382\n",
            "Epoch 43/300\n",
            "20/20 [==============================] - 9s 460ms/step - loss: 0.0038 - acc: 0.9941 - val_loss: 0.0041 - val_acc: 0.9938\n",
            "\n",
            "Epoch 00043: val_loss did not improve from 0.00382\n",
            "Epoch 44/300\n",
            "20/20 [==============================] - 9s 461ms/step - loss: 0.0039 - acc: 0.9940 - val_loss: 0.0040 - val_acc: 0.9938\n",
            "\n",
            "Epoch 00044: val_loss did not improve from 0.00382\n",
            "Epoch 45/300\n",
            "20/20 [==============================] - 9s 461ms/step - loss: 0.0037 - acc: 0.9943 - val_loss: 0.0038 - val_acc: 0.9943\n",
            "\n",
            "Epoch 00045: val_loss improved from 0.00382 to 0.00380, saving model to model_best_checkpoint.h5\n",
            "Epoch 46/300\n",
            "20/20 [==============================] - 9s 460ms/step - loss: 0.0041 - acc: 0.9935 - val_loss: 0.0038 - val_acc: 0.9942\n",
            "\n",
            "Epoch 00046: val_loss did not improve from 0.00380\n",
            "Epoch 47/300\n",
            "20/20 [==============================] - 9s 461ms/step - loss: 0.0037 - acc: 0.9942 - val_loss: 0.0040 - val_acc: 0.9939\n",
            "\n",
            "Epoch 00047: val_loss did not improve from 0.00380\n",
            "Epoch 48/300\n",
            "20/20 [==============================] - 9s 460ms/step - loss: 0.0038 - acc: 0.9940 - val_loss: 0.0040 - val_acc: 0.9940\n",
            "\n",
            "Epoch 00048: val_loss did not improve from 0.00380\n",
            "Epoch 49/300\n",
            "20/20 [==============================] - 9s 460ms/step - loss: 0.0038 - acc: 0.9939 - val_loss: 0.0039 - val_acc: 0.9940\n",
            "\n",
            "Epoch 00049: val_loss did not improve from 0.00380\n",
            "Epoch 50/300\n",
            "20/20 [==============================] - 9s 460ms/step - loss: 0.0040 - acc: 0.9937 - val_loss: 0.0038 - val_acc: 0.9941\n",
            "\n",
            "Epoch 00050: val_loss did not improve from 0.00380\n",
            "Epoch 51/300\n",
            "20/20 [==============================] - 9s 460ms/step - loss: 0.0037 - acc: 0.9940 - val_loss: 0.0039 - val_acc: 0.9940\n",
            "\n",
            "Epoch 00051: val_loss did not improve from 0.00380\n",
            "Epoch 52/300\n",
            "20/20 [==============================] - 9s 460ms/step - loss: 0.0039 - acc: 0.9938 - val_loss: 0.0039 - val_acc: 0.9941\n",
            "\n",
            "Epoch 00052: val_loss did not improve from 0.00380\n",
            "Epoch 53/300\n",
            "20/20 [==============================] - 9s 461ms/step - loss: 0.0038 - acc: 0.9940 - val_loss: 0.0038 - val_acc: 0.9941\n",
            "\n",
            "Epoch 00053: val_loss improved from 0.00380 to 0.00377, saving model to model_best_checkpoint.h5\n",
            "Epoch 54/300\n",
            "20/20 [==============================] - 9s 459ms/step - loss: 0.0038 - acc: 0.9939 - val_loss: 0.0042 - val_acc: 0.9936\n",
            "\n",
            "Epoch 00054: val_loss did not improve from 0.00377\n",
            "Epoch 55/300\n",
            "20/20 [==============================] - 9s 460ms/step - loss: 0.0040 - acc: 0.9936 - val_loss: 0.0037 - val_acc: 0.9942\n",
            "\n",
            "Epoch 00055: val_loss improved from 0.00377 to 0.00374, saving model to model_best_checkpoint.h5\n",
            "Epoch 56/300\n",
            "20/20 [==============================] - 9s 458ms/step - loss: 0.0038 - acc: 0.9939 - val_loss: 0.0039 - val_acc: 0.9939\n",
            "\n",
            "Epoch 00056: val_loss did not improve from 0.00374\n",
            "Epoch 57/300\n",
            "20/20 [==============================] - 9s 459ms/step - loss: 0.0037 - acc: 0.9941 - val_loss: 0.0040 - val_acc: 0.9938\n",
            "\n",
            "Epoch 00057: val_loss did not improve from 0.00374\n",
            "Epoch 58/300\n",
            "20/20 [==============================] - 9s 460ms/step - loss: 0.0041 - acc: 0.9935 - val_loss: 0.0038 - val_acc: 0.9941\n",
            "\n",
            "Epoch 00058: val_loss did not improve from 0.00374\n",
            "Epoch 59/300\n",
            "20/20 [==============================] - 9s 459ms/step - loss: 0.0037 - acc: 0.9940 - val_loss: 0.0036 - val_acc: 0.9943\n",
            "\n",
            "Epoch 00059: val_loss improved from 0.00374 to 0.00359, saving model to model_best_checkpoint.h5\n",
            "Epoch 60/300\n",
            "20/20 [==============================] - 9s 460ms/step - loss: 0.0038 - acc: 0.9939 - val_loss: 0.0039 - val_acc: 0.9939\n",
            "\n",
            "Epoch 00060: val_loss did not improve from 0.00359\n",
            "Epoch 61/300\n",
            "20/20 [==============================] - 9s 459ms/step - loss: 0.0040 - acc: 0.9934 - val_loss: 0.0038 - val_acc: 0.9941\n",
            "\n",
            "Epoch 00061: val_loss did not improve from 0.00359\n",
            "Epoch 62/300\n",
            "20/20 [==============================] - 9s 461ms/step - loss: 0.0038 - acc: 0.9939 - val_loss: 0.0038 - val_acc: 0.9941\n",
            "\n",
            "Epoch 00062: val_loss did not improve from 0.00359\n",
            "Epoch 63/300\n",
            "20/20 [==============================] - 9s 460ms/step - loss: 0.0037 - acc: 0.9940 - val_loss: 0.0040 - val_acc: 0.9938\n",
            "\n",
            "Epoch 00063: val_loss did not improve from 0.00359\n",
            "Epoch 64/300\n",
            "20/20 [==============================] - 9s 461ms/step - loss: 0.0036 - acc: 0.9941 - val_loss: 0.0034 - val_acc: 0.9946\n",
            "\n",
            "Epoch 00064: val_loss improved from 0.00359 to 0.00340, saving model to model_best_checkpoint.h5\n",
            "Epoch 65/300\n",
            "20/20 [==============================] - 9s 460ms/step - loss: 0.0037 - acc: 0.9940 - val_loss: 0.0041 - val_acc: 0.9935\n",
            "\n",
            "Epoch 00065: val_loss did not improve from 0.00340\n",
            "Epoch 66/300\n",
            "20/20 [==============================] - 9s 461ms/step - loss: 0.0038 - acc: 0.9938 - val_loss: 0.0037 - val_acc: 0.9941\n",
            "\n",
            "Epoch 00066: val_loss did not improve from 0.00340\n",
            "Epoch 67/300\n",
            "20/20 [==============================] - 9s 460ms/step - loss: 0.0035 - acc: 0.9942 - val_loss: 0.0037 - val_acc: 0.9940\n",
            "\n",
            "Epoch 00067: val_loss did not improve from 0.00340\n",
            "Epoch 68/300\n",
            "20/20 [==============================] - 9s 460ms/step - loss: 0.0039 - acc: 0.9937 - val_loss: 0.0039 - val_acc: 0.9938\n",
            "\n",
            "Epoch 00068: val_loss did not improve from 0.00340\n",
            "Epoch 69/300\n",
            "20/20 [==============================] - 9s 461ms/step - loss: 0.0037 - acc: 0.9939 - val_loss: 0.0034 - val_acc: 0.9946\n",
            "\n",
            "Epoch 00069: val_loss did not improve from 0.00340\n",
            "Epoch 70/300\n",
            "20/20 [==============================] - 9s 460ms/step - loss: 0.0037 - acc: 0.9939 - val_loss: 0.0041 - val_acc: 0.9936\n",
            "\n",
            "Epoch 00070: val_loss did not improve from 0.00340\n",
            "Epoch 71/300\n",
            "20/20 [==============================] - 9s 461ms/step - loss: 0.0037 - acc: 0.9938 - val_loss: 0.0036 - val_acc: 0.9941\n",
            "\n",
            "Epoch 00071: val_loss did not improve from 0.00340\n",
            "Epoch 72/300\n",
            "20/20 [==============================] - 9s 460ms/step - loss: 0.0035 - acc: 0.9941 - val_loss: 0.0038 - val_acc: 0.9939\n",
            "\n",
            "Epoch 00072: val_loss did not improve from 0.00340\n",
            "Epoch 73/300\n",
            "20/20 [==============================] - 9s 461ms/step - loss: 0.0036 - acc: 0.9940 - val_loss: 0.0039 - val_acc: 0.9938\n",
            "\n",
            "Epoch 00073: val_loss did not improve from 0.00340\n",
            "Epoch 74/300\n",
            "20/20 [==============================] - 9s 461ms/step - loss: 0.0038 - acc: 0.9936 - val_loss: 0.0034 - val_acc: 0.9944\n",
            "\n",
            "Epoch 00074: val_loss did not improve from 0.00340\n"
          ],
          "name": "stdout"
        }
      ]
    },
    {
      "cell_type": "code",
      "metadata": {
        "id": "Seyi7SYf9GQO",
        "colab_type": "code",
        "colab": {
          "base_uri": "https://localhost:8080/",
          "height": 204
        },
        "outputId": "4098ddaf-6543-40e7-e679-9f1afc7393c6"
      },
      "source": [
        "submission = pd.read_csv('sample_submission.csv',usecols=['id'])\n",
        "submission.head()"
      ],
      "execution_count": 9,
      "outputs": [
        {
          "output_type": "execute_result",
          "data": {
            "text/html": [
              "<div>\n",
              "<style scoped>\n",
              "    .dataframe tbody tr th:only-of-type {\n",
              "        vertical-align: middle;\n",
              "    }\n",
              "\n",
              "    .dataframe tbody tr th {\n",
              "        vertical-align: top;\n",
              "    }\n",
              "\n",
              "    .dataframe thead th {\n",
              "        text-align: right;\n",
              "    }\n",
              "</style>\n",
              "<table border=\"1\" class=\"dataframe\">\n",
              "  <thead>\n",
              "    <tr style=\"text-align: right;\">\n",
              "      <th></th>\n",
              "      <th>id</th>\n",
              "    </tr>\n",
              "  </thead>\n",
              "  <tbody>\n",
              "    <tr>\n",
              "      <th>0</th>\n",
              "      <td>155410d6fa</td>\n",
              "    </tr>\n",
              "    <tr>\n",
              "      <th>1</th>\n",
              "      <td>78b32781d1</td>\n",
              "    </tr>\n",
              "    <tr>\n",
              "      <th>2</th>\n",
              "      <td>63db2a476a</td>\n",
              "    </tr>\n",
              "    <tr>\n",
              "      <th>3</th>\n",
              "      <td>17bfcdb967</td>\n",
              "    </tr>\n",
              "    <tr>\n",
              "      <th>4</th>\n",
              "      <td>7ea0fd3c88</td>\n",
              "    </tr>\n",
              "  </tbody>\n",
              "</table>\n",
              "</div>"
            ],
            "text/plain": [
              "           id\n",
              "0  155410d6fa\n",
              "1  78b32781d1\n",
              "2  63db2a476a\n",
              "3  17bfcdb967\n",
              "4  7ea0fd3c88"
            ]
          },
          "metadata": {
            "tags": []
          },
          "execution_count": 9
        }
      ]
    },
    {
      "cell_type": "code",
      "metadata": {
        "id": "RKn9RBLkmv5w",
        "colab_type": "code",
        "colab": {
          "base_uri": "https://localhost:8080/",
          "height": 34
        },
        "outputId": "198bbceb-d6ff-4567-8119-890980d60242"
      },
      "source": [
        "test_images = [ 'images/{}.png'.format(i) for i in submission.id.values ]\n",
        "test_images = np.array([ img_to_array( load_img(file, target_size = IMG_DIM ) ) for file in test_images ])/255.0\n",
        "test_images = unet.predict(test_images)\n",
        "test_images.shape"
      ],
      "execution_count": 10,
      "outputs": [
        {
          "output_type": "execute_result",
          "data": {
            "text/plain": [
              "(18000, 128, 128, 1)"
            ]
          },
          "metadata": {
            "tags": []
          },
          "execution_count": 10
        }
      ]
    },
    {
      "cell_type": "code",
      "metadata": {
        "id": "iJP9mUSxnG-r",
        "colab_type": "code",
        "colab": {}
      },
      "source": [
        "def process_output(out):\n",
        "    im = cv2.resize(out, (101,101), interpolation = cv2.INTER_AREA)\n",
        "    return (np.squeeze(im)>0.5)*1\n",
        "\n",
        "def rle_encode(im):\n",
        "  im = np.reshape(im,(101*101))\n",
        "  pixels = im.flatten(order = 'F')\n",
        "  pixels = np.concatenate([[0], pixels, [0]])\n",
        "  runs = np.where(pixels[1:] != pixels[:-1])[0] + 1\n",
        "  runs[1::2] -= runs[::2]\n",
        "  return ' '.join(str(x) for x in runs)"
      ],
      "execution_count": 0,
      "outputs": []
    },
    {
      "cell_type": "code",
      "metadata": {
        "id": "fmfyNkZOohLJ",
        "colab_type": "code",
        "colab": {
          "base_uri": "https://localhost:8080/",
          "height": 378
        },
        "outputId": "290717b8-abf3-4a37-ea15-004047f03048"
      },
      "source": [
        "fig,ax = plt.subplots(nrows=2,ncols=4,figsize=(14,6))\n",
        "indexs=[145,678,1456,13453]\n",
        "for index,l in zip(indexs,[(0,0),(0,2),(1,0),(1,2)]):\n",
        "  im = cv2.imread(\"images/{}.png\".format(submission.iloc[index].id))\n",
        "  ax[l[0]][l[1]].imshow(im)\n",
        "  ax[l[0]][l[1]+1].imshow(process_output(outputs[index]))"
      ],
      "execution_count": 15,
      "outputs": [
        {
          "output_type": "display_data",
          "data": {
            "image/png": "[encoded data removed]",
            "text/plain": [
              "<Figure size 1008x432 with 8 Axes>"
            ]
          },
          "metadata": {
            "tags": []
          }
        }
      ]
    },
    {
      "cell_type": "code",
      "metadata": {
        "id": "BJ32Rk1eo4gj",
        "colab_type": "code",
        "colab": {
          "base_uri": "https://localhost:8080/",
          "height": 286
        },
        "outputId": "0a029f75-8411-4a58-81c7-004e024f8768"
      },
      "source": [
        "temp = np.array([ img_to_array( load_img('images/'+data.iloc[15].id+'.png', target_size = IMG_DIM ) ) ])/255.\n",
        "temp = unet.predict(temp)\n",
        "plt.imshow(process_output(temp[0]))"
      ],
      "execution_count": 16,
      "outputs": [
        {
          "output_type": "execute_result",
          "data": {
            "text/plain": [
              "<matplotlib.image.AxesImage at 0x7f1f6088bac8>"
            ]
          },
          "metadata": {
            "tags": []
          },
          "execution_count": 16
        },
        {
          "output_type": "display_data",
          "data": {
            "image/png": "[encoded data removed]",
            "text/plain": [
              "<Figure size 432x288 with 1 Axes>"
            ]
          },
          "metadata": {
            "tags": []
          }
        }
      ]
    },
    {
      "cell_type": "code",
      "metadata": {
        "id": "6F0vuPdUrWRn",
        "colab_type": "code",
        "colab": {
          "base_uri": "https://localhost:8080/",
          "height": 204
        },
        "outputId": "aba14555-e9c7-4293-adb6-684bb836856a"
      },
      "source": [
        "submission['rle_mask'] = [ rle_encode(process_output(o)) for o in outputs ]\n",
        "submission.head()"
      ],
      "execution_count": 18,
      "outputs": [
        {
          "output_type": "execute_result",
          "data": {
            "text/html": [
              "<div>\n",
              "<style scoped>\n",
              "    .dataframe tbody tr th:only-of-type {\n",
              "        vertical-align: middle;\n",
              "    }\n",
              "\n",
              "    .dataframe tbody tr th {\n",
              "        vertical-align: top;\n",
              "    }\n",
              "\n",
              "    .dataframe thead th {\n",
              "        text-align: right;\n",
              "    }\n",
              "</style>\n",
              "<table border=\"1\" class=\"dataframe\">\n",
              "  <thead>\n",
              "    <tr style=\"text-align: right;\">\n",
              "      <th></th>\n",
              "      <th>id</th>\n",
              "      <th>rle_mask</th>\n",
              "    </tr>\n",
              "  </thead>\n",
              "  <tbody>\n",
              "    <tr>\n",
              "      <th>0</th>\n",
              "      <td>155410d6fa</td>\n",
              "      <td>1 6928 6940 89 7044 86 7147 81 7254 75 7356 72...</td>\n",
              "    </tr>\n",
              "    <tr>\n",
              "      <th>1</th>\n",
              "      <td>78b32781d1</td>\n",
              "      <td>1 15 17 26 52 62 119 1 121 6 130 12 153 13 173...</td>\n",
              "    </tr>\n",
              "    <tr>\n",
              "      <th>2</th>\n",
              "      <td>63db2a476a</td>\n",
              "      <td>1 151 154 8 165 25 196 3 200 25 230 11 245 5 2...</td>\n",
              "    </tr>\n",
              "    <tr>\n",
              "      <th>3</th>\n",
              "      <td>17bfcdb967</td>\n",
              "      <td>1 210 212 33 246 9 259 51 314 4 321 9 333 4 34...</td>\n",
              "    </tr>\n",
              "    <tr>\n",
              "      <th>4</th>\n",
              "      <td>7ea0fd3c88</td>\n",
              "      <td>1 34 42 5 57 3 62 10 74 35 113 3 118 17 159 2 ...</td>\n",
              "    </tr>\n",
              "  </tbody>\n",
              "</table>\n",
              "</div>"
            ],
            "text/plain": [
              "           id                                           rle_mask\n",
              "0  155410d6fa  1 6928 6940 89 7044 86 7147 81 7254 75 7356 72...\n",
              "1  78b32781d1  1 15 17 26 52 62 119 1 121 6 130 12 153 13 173...\n",
              "2  63db2a476a  1 151 154 8 165 25 196 3 200 25 230 11 245 5 2...\n",
              "3  17bfcdb967  1 210 212 33 246 9 259 51 314 4 321 9 333 4 34...\n",
              "4  7ea0fd3c88  1 34 42 5 57 3 62 10 74 35 113 3 118 17 159 2 ..."
            ]
          },
          "metadata": {
            "tags": []
          },
          "execution_count": 18
        }
      ]
    },
    {
      "cell_type": "code",
      "metadata": {
        "id": "kSVGS9iFzS5m",
        "colab_type": "code",
        "colab": {}
      },
      "source": [
        "submission.to_csv('submission.csv',index=False)"
      ],
      "execution_count": 0,
      "outputs": []
    },
    {
      "cell_type": "code",
      "metadata": {
        "id": "CHvaHTjUzhsd",
        "colab_type": "code",
        "colab": {
          "base_uri": "https://localhost:8080/",
          "height": 88
        },
        "outputId": "e5a7d6c0-3332-4ff0-8ea9-a8f40e5be38e"
      },
      "source": [
        "!kaggle competitions submit -c tgs-salt-identification-challenge -f submission.csv -m \"simple unet 16 may\""
      ],
      "execution_count": 20,
      "outputs": [
        {
          "output_type": "stream",
          "text": [
            "Warning: Your Kaggle API key is readable by other users on this system! To fix this, you can run 'chmod 600 /root/.kaggle/kaggle.json'\n",
            "100% 37.7M/37.7M [00:05<00:00, 6.95MB/s]\n",
            "Successfully submitted to TGS Salt Identification Challenge"
          ],
          "name": "stdout"
        }
      ]
    },
    {
      "cell_type": "code",
      "metadata": {
        "id": "-VquLeivz4rw",
        "colab_type": "code",
        "colab": {}
      },
      "source": [
        ""
      ],
      "execution_count": 0,
      "outputs": []
    }
  ]
}