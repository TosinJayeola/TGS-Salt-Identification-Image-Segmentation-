{
  "nbformat": 4,
  "nbformat_minor": 0,
  "metadata": {
    "colab": {
      "name": "TGS Salt Classification Challenge.ipynb",
      "version": "0.3.2",
      "provenance": [],
      "collapsed_sections": [],
      "toc_visible": true
    },
    "kernelspec": {
      "name": "python3",
      "display_name": "Python 3"
    },
    "accelerator": "GPU"
  },
  "cells": [
    {
      "cell_type": "code",
      "metadata": {
        "id": "zDuvxFFRD5Xs",
        "colab_type": "code",
        "colab": {}
      },
      "source": [
        "from google.colab import files\n",
        "files.upload()"
      ],
      "execution_count": 0,
      "outputs": []
    },
    {
      "cell_type": "code",
      "metadata": {
        "id": "7KruBMA886Oi",
        "colab_type": "code",
        "outputId": "b7a80eeb-8067-4ae8-e3c3-0d7bad38fc5b",
        "colab": {
          "base_uri": "https://localhost:8080/",
          "height": 309
        }
      },
      "source": [
        "!mkdir /root/.kaggle\n",
        "!mv kaggle.json /root/.kaggle/\n",
        "!kaggle competitions download -c tgs-salt-identification-challenge\n",
        "!unzip -q train.zip\n",
        "!unzip -q test.zip\n",
        "!rm train.zip test.zip"
      ],
      "execution_count": 2,
      "outputs": [
        {
          "output_type": "stream",
          "text": [
            "Warning: Your Kaggle API key is readable by other users on this system! To fix this, you can run 'chmod 600 /root/.kaggle/kaggle.json'\n",
            "Downloading depths.csv to /content\n",
            "  0% 0.00/322k [00:00<?, ?B/s]\n",
            "100% 322k/322k [00:00<00:00, 47.2MB/s]\n",
            "Downloading sample_submission.csv to /content\n",
            "  0% 0.00/264k [00:00<?, ?B/s]\n",
            "100% 264k/264k [00:00<00:00, 83.8MB/s]\n",
            "Downloading train.csv to /content\n",
            "  0% 0.00/922k [00:00<?, ?B/s]\n",
            "100% 922k/922k [00:00<00:00, 59.2MB/s]\n",
            "Downloading test.zip to /content\n",
            " 89% 145M/163M [00:01<00:00, 109MB/s]\n",
            "100% 163M/163M [00:01<00:00, 121MB/s]\n",
            "Downloading train.zip to /content\n",
            " 95% 36.0M/37.9M [00:00<00:00, 47.6MB/s]\n",
            "100% 37.9M/37.9M [00:00<00:00, 95.8MB/s]\n"
          ],
          "name": "stdout"
        }
      ]
    },
    {
      "cell_type": "markdown",
      "metadata": {
        "id": "s34uu8dgZuEa",
        "colab_type": "text"
      },
      "source": [
        "### TGT Salt Classification Challenge\n"
      ]
    },
    {
      "cell_type": "code",
      "metadata": {
        "id": "IKjCelQziyZS",
        "colab_type": "code",
        "colab": {}
      },
      "source": [
        "import numpy as np\n",
        "import gc\n",
        "import cv2\n",
        "def rle_to_output(x):\n",
        "  if type(x)!=np.float:\n",
        "    x = list(map(int, x.split(' ')))\n",
        "    out = np.zeros(101*101,dtype=np.int64)\n",
        "    for i in range(0,len(x),2):\n",
        "      out[ x[i]-1:x[i+1]+x[i]-1 ] = 1\n",
        "    return np.reshape(np.array(out),(101,101)).T\n",
        "  else:\n",
        "    return np.zeros((128,128),dtype=np.int64)"
      ],
      "execution_count": 0,
      "outputs": []
    },
    {
      "cell_type": "code",
      "metadata": {
        "id": "x9EqiAkx-NmQ",
        "colab_type": "code",
        "outputId": "53c16d37-d414-4902-adf8-b084acdeb2ca",
        "colab": {
          "base_uri": "https://localhost:8080/",
          "height": 204
        }
      },
      "source": [
        "import glob\n",
        "import pandas as pd\n",
        "\n",
        "data = pd.read_csv('train.csv')\n",
        "depths = pd.read_csv('depths.csv')\n",
        "data = pd.merge(data,depths,on='id',how='left')\n",
        "X = data.id.apply(lambda x: \"images/\"+str(x)+'.png')\n",
        "Y = data.id.apply(lambda x: \"masks/\"+str(x)+'.png')\n",
        "Z = data.z\n",
        "data.head(5)"
      ],
      "execution_count": 2,
      "outputs": [
        {
          "output_type": "execute_result",
          "data": {
            "text/html": [
              "<div>\n",
              "<style scoped>\n",
              "    .dataframe tbody tr th:only-of-type {\n",
              "        vertical-align: middle;\n",
              "    }\n",
              "\n",
              "    .dataframe tbody tr th {\n",
              "        vertical-align: top;\n",
              "    }\n",
              "\n",
              "    .dataframe thead th {\n",
              "        text-align: right;\n",
              "    }\n",
              "</style>\n",
              "<table border=\"1\" class=\"dataframe\">\n",
              "  <thead>\n",
              "    <tr style=\"text-align: right;\">\n",
              "      <th></th>\n",
              "      <th>id</th>\n",
              "      <th>rle_mask</th>\n",
              "      <th>z</th>\n",
              "    </tr>\n",
              "  </thead>\n",
              "  <tbody>\n",
              "    <tr>\n",
              "      <th>0</th>\n",
              "      <td>575d24d81d</td>\n",
              "      <td>NaN</td>\n",
              "      <td>843</td>\n",
              "    </tr>\n",
              "    <tr>\n",
              "      <th>1</th>\n",
              "      <td>a266a2a9df</td>\n",
              "      <td>5051 5151</td>\n",
              "      <td>794</td>\n",
              "    </tr>\n",
              "    <tr>\n",
              "      <th>2</th>\n",
              "      <td>75efad62c1</td>\n",
              "      <td>9 93 109 94 210 94 310 95 411 95 511 96 612 96...</td>\n",
              "      <td>468</td>\n",
              "    </tr>\n",
              "    <tr>\n",
              "      <th>3</th>\n",
              "      <td>34e51dba6a</td>\n",
              "      <td>48 54 149 54 251 53 353 52 455 51 557 50 659 4...</td>\n",
              "      <td>727</td>\n",
              "    </tr>\n",
              "    <tr>\n",
              "      <th>4</th>\n",
              "      <td>4875705fb0</td>\n",
              "      <td>1111 1 1212 1 1313 1 1414 1 1514 2 1615 2 1716...</td>\n",
              "      <td>797</td>\n",
              "    </tr>\n",
              "  </tbody>\n",
              "</table>\n",
              "</div>"
            ],
            "text/plain": [
              "           id                                           rle_mask    z\n",
              "0  575d24d81d                                                NaN  843\n",
              "1  a266a2a9df                                          5051 5151  794\n",
              "2  75efad62c1  9 93 109 94 210 94 310 95 411 95 511 96 612 96...  468\n",
              "3  34e51dba6a  48 54 149 54 251 53 353 52 455 51 557 50 659 4...  727\n",
              "4  4875705fb0  1111 1 1212 1 1313 1 1414 1 1514 2 1615 2 1716...  797"
            ]
          },
          "metadata": {
            "tags": []
          },
          "execution_count": 2
        }
      ]
    },
    {
      "cell_type": "markdown",
      "metadata": {
        "id": "cRPP_p2FImMQ",
        "colab_type": "text"
      },
      "source": [
        "### Basic Visualization"
      ]
    },
    {
      "cell_type": "code",
      "metadata": {
        "id": "t2WP-6LRIjfo",
        "colab_type": "code",
        "outputId": "3eddb355-71de-406b-fbae-b99e8b576a88",
        "colab": {
          "base_uri": "https://localhost:8080/",
          "height": 378
        }
      },
      "source": [
        "import matplotlib.pyplot as plt\n",
        "import cv2\n",
        "%matplotlib inline\n",
        "fig,ax = plt.subplots(nrows=2,ncols=4,figsize=(14,6))\n",
        "indexs=[15,511,1130,3452]\n",
        "for index,l in zip(indexs,[(0,0),(0,2),(1,0),(1,2)]):\n",
        "  ax[l[0]][l[1]].imshow( cv2.imread(X[index]) )\n",
        "  ax[l[0]][l[1]+1].imshow( cv2.imread(Y[index]) )"
      ],
      "execution_count": 3,
      "outputs": [
        {
          "output_type": "display_data",
          "data": {
            "image/png": "[encoded data removed]",
            "text/plain": [
              "<Figure size 1008x432 with 8 Axes>"
            ]
          },
          "metadata": {
            "tags": []
          }
        }
      ]
    },
    {
      "cell_type": "code",
      "metadata": {
        "id": "1NgR2c6U-hCg",
        "colab_type": "code",
        "outputId": "ee8b1dd7-1a0e-4a1f-8561-57d5be3523ce",
        "colab": {
          "base_uri": "https://localhost:8080/",
          "height": 68
        }
      },
      "source": [
        "all_images = glob.glob('masks/*')\n",
        "print(len(all_images), X.shape)\n",
        "\n",
        "IMG_DIM = (128,128,3)\n",
        "\n",
        "from keras.preprocessing.image import img_to_array, load_img, ImageDataGenerator, array_to_img\n",
        "X = np.array([ img_to_array( load_img(file, target_size = IMG_DIM ) ) for file in X.values ])\n",
        "Y = np.array([ img_to_array( load_img(file, target_size = (128,128,1), color_mode='grayscale' ) ) for file in Y.values ])/255\n",
        "\n",
        "print(X.shape,Y.shape,Z.shape)"
      ],
      "execution_count": 4,
      "outputs": [
        {
          "output_type": "stream",
          "text": [
            "4000 (4000,)\n"
          ],
          "name": "stdout"
        },
        {
          "output_type": "stream",
          "text": [
            "Using TensorFlow backend.\n"
          ],
          "name": "stderr"
        },
        {
          "output_type": "stream",
          "text": [
            "(4000, 128, 128, 3) (4000, 128, 128, 1) (4000,)\n"
          ],
          "name": "stdout"
        }
      ]
    },
    {
      "cell_type": "code",
      "metadata": {
        "id": "_QTuYR3bAzKS",
        "colab_type": "code",
        "colab": {}
      },
      "source": [
        "from sklearn.model_selection import train_test_split, StratifiedKFold\n",
        "#X_train,X_val,Y_train,Y_val = train_test_split(X,Y,test_size=0.2)\n",
        "\n",
        "train_datagen = ImageDataGenerator(rescale=1./255, \n",
        "                                   brightness_range=(0.5,1.25),\n",
        "                                   zoom_range=[.80,1.20],\n",
        "                                   fill_mode='nearest')\n",
        "val_datagen = ImageDataGenerator(rescale=1./255)\n",
        "\n",
        "skf = StratifiedKFold(n_splits=5,shuffle=True,random_state=5,)\n",
        "\n",
        "#train_generator = train_datagen.flow(X_train, Y_train, batch_size=32)\n",
        "#val_generator = val_datagen.flow(X_val, Y_val, batch_size=32)"
      ],
      "execution_count": 0,
      "outputs": []
    },
    {
      "cell_type": "markdown",
      "metadata": {
        "id": "2yqP9MPQkNz-",
        "colab_type": "text"
      },
      "source": [
        "### Implementing a Fully Convolutional Network called UNET for Image Segmentation"
      ]
    },
    {
      "cell_type": "code",
      "metadata": {
        "id": "kHg2yXBIDgKJ",
        "colab_type": "code",
        "outputId": "bef1bebf-9f4a-4e84-e757-3f44305dded4",
        "colab": {
          "base_uri": "https://localhost:8080/",
          "height": 1652
        }
      },
      "source": [
        "from keras.layers import Conv2D, MaxPooling2D, Conv2DTranspose, concatenate, Dropout\n",
        "from keras import optimizers\n",
        "from keras.applications import VGG16\n",
        "from keras.models import Model\n",
        "\n",
        "vgg = VGG16(weights='imagenet',include_top=False, input_shape=IMG_DIM)\n",
        "vgg.layers.pop()\n",
        "vgg.trainable=False\n",
        "for layer in vgg.layers[:-7]:\n",
        "    layer.trainable = False\n",
        "\n",
        "def conv2d_block( input_tensor, n_filters, kernel_size = (3,3)):\n",
        "  \"Add 2 conv layer\"\n",
        "  x = Conv2D(filters=n_filters, kernel_size=kernel_size, kernel_initializer='he_normal', \n",
        "             padding='same',activation=\"relu\")(input_tensor)\n",
        "  \n",
        "  x = Conv2D(filters=n_filters, kernel_size=kernel_size, kernel_initializer='he_normal', \n",
        "             padding='same',activation=\"relu\")(x)\n",
        "  return x\n",
        "\n",
        "u1 = Conv2DTranspose(512, (3, 3), strides = (2, 2), padding = 'same')(vgg.get_layer('block5_conv3').output)\n",
        "u1 = concatenate([u1,vgg.get_layer('block4_conv3').output])\n",
        "u1 = Dropout(0.1)(u1)\n",
        "c1 = conv2d_block(u1, 512)\n",
        "\n",
        "u2 = Conv2DTranspose(256, (3, 3), strides = (2, 2), padding = 'same')(c1)\n",
        "u2 = concatenate([u2,vgg.get_layer('block3_conv3').output])\n",
        "u2 = Dropout(0.1)(u2)\n",
        "c2 = conv2d_block(u2, 256)\n",
        "\n",
        "u3 = Conv2DTranspose(128, (3, 3), strides = (2, 2), padding = 'same')(c2)\n",
        "u3 = concatenate([u3,vgg.get_layer('block2_conv2').output])\n",
        "u3 = Dropout(0.1)(u3)\n",
        "c3 = conv2d_block(u3, 128)\n",
        "\n",
        "u4 = Conv2DTranspose(64, (3, 3), strides = (2, 2), padding = 'same')(c3)\n",
        "u4 = concatenate([u4,vgg.get_layer('block1_conv2').output])\n",
        "u4 = Dropout(0.1)(u4)\n",
        "c4 = conv2d_block(u4, 64)\n",
        "\n",
        "output = Conv2D(1, (1, 1), activation='sigmoid')(c4)\n",
        "\n",
        "unets= []\n",
        "\n",
        "for _ in range(5):\n",
        "  unet = Model(vgg.input, output)\n",
        "  unet.compile(optimizer=optimizers.Adam(lr=1e-3), loss='binary_crossentropy', metrics=['accuracy'])\n",
        "  unets.append(unet)\n",
        "\n",
        "unets[0].summary()"
      ],
      "execution_count": 6,
      "outputs": [
        {
          "output_type": "stream",
          "text": [
            "WARNING:tensorflow:From /usr/local/lib/python3.6/dist-packages/tensorflow/python/framework/op_def_library.py:263: colocate_with (from tensorflow.python.framework.ops) is deprecated and will be removed in a future version.\n",
            "Instructions for updating:\n",
            "Colocations handled automatically by placer.\n",
            "WARNING:tensorflow:From /usr/local/lib/python3.6/dist-packages/keras/backend/tensorflow_backend.py:3445: calling dropout (from tensorflow.python.ops.nn_ops) with keep_prob is deprecated and will be removed in a future version.\n",
            "Instructions for updating:\n",
            "Please use `rate` instead of `keep_prob`. Rate should be set to `rate = 1 - keep_prob`.\n",
            "__________________________________________________________________________________________________\n",
            "Layer (type)                    Output Shape         Param #     Connected to                     \n",
            "==================================================================================================\n",
            "input_1 (InputLayer)            (None, 128, 128, 3)  0                                            \n",
            "__________________________________________________________________________________________________\n",
            "block1_conv1 (Conv2D)           (None, 128, 128, 64) 1792        input_1[0][0]                    \n",
            "__________________________________________________________________________________________________\n",
            "block1_conv2 (Conv2D)           (None, 128, 128, 64) 36928       block1_conv1[0][0]               \n",
            "__________________________________________________________________________________________________\n",
            "block1_pool (MaxPooling2D)      (None, 64, 64, 64)   0           block1_conv2[0][0]               \n",
            "__________________________________________________________________________________________________\n",
            "block2_conv1 (Conv2D)           (None, 64, 64, 128)  73856       block1_pool[0][0]                \n",
            "__________________________________________________________________________________________________\n",
            "block2_conv2 (Conv2D)           (None, 64, 64, 128)  147584      block2_conv1[0][0]               \n",
            "__________________________________________________________________________________________________\n",
            "block2_pool (MaxPooling2D)      (None, 32, 32, 128)  0           block2_conv2[0][0]               \n",
            "__________________________________________________________________________________________________\n",
            "block3_conv1 (Conv2D)           (None, 32, 32, 256)  295168      block2_pool[0][0]                \n",
            "__________________________________________________________________________________________________\n",
            "block3_conv2 (Conv2D)           (None, 32, 32, 256)  590080      block3_conv1[0][0]               \n",
            "__________________________________________________________________________________________________\n",
            "block3_conv3 (Conv2D)           (None, 32, 32, 256)  590080      block3_conv2[0][0]               \n",
            "__________________________________________________________________________________________________\n",
            "block3_pool (MaxPooling2D)      (None, 16, 16, 256)  0           block3_conv3[0][0]               \n",
            "__________________________________________________________________________________________________\n",
            "block4_conv1 (Conv2D)           (None, 16, 16, 512)  1180160     block3_pool[0][0]                \n",
            "__________________________________________________________________________________________________\n",
            "block4_conv2 (Conv2D)           (None, 16, 16, 512)  2359808     block4_conv1[0][0]               \n",
            "__________________________________________________________________________________________________\n",
            "block4_conv3 (Conv2D)           (None, 16, 16, 512)  2359808     block4_conv2[0][0]               \n",
            "__________________________________________________________________________________________________\n",
            "block4_pool (MaxPooling2D)      (None, 8, 8, 512)    0           block4_conv3[0][0]               \n",
            "__________________________________________________________________________________________________\n",
            "block5_conv1 (Conv2D)           (None, 8, 8, 512)    2359808     block4_pool[0][0]                \n",
            "__________________________________________________________________________________________________\n",
            "block5_conv2 (Conv2D)           (None, 8, 8, 512)    2359808     block5_conv1[0][0]               \n",
            "__________________________________________________________________________________________________\n",
            "block5_conv3 (Conv2D)           (None, 8, 8, 512)    2359808     block5_conv2[0][0]               \n",
            "__________________________________________________________________________________________________\n",
            "conv2d_transpose_1 (Conv2DTrans (None, 16, 16, 512)  2359808     block5_conv3[0][0]               \n",
            "__________________________________________________________________________________________________\n",
            "concatenate_1 (Concatenate)     (None, 16, 16, 1024) 0           conv2d_transpose_1[0][0]         \n",
            "                                                                 block4_conv3[0][0]               \n",
            "__________________________________________________________________________________________________\n",
            "dropout_1 (Dropout)             (None, 16, 16, 1024) 0           concatenate_1[0][0]              \n",
            "__________________________________________________________________________________________________\n",
            "conv2d_1 (Conv2D)               (None, 16, 16, 512)  4719104     dropout_1[0][0]                  \n",
            "__________________________________________________________________________________________________\n",
            "conv2d_2 (Conv2D)               (None, 16, 16, 512)  2359808     conv2d_1[0][0]                   \n",
            "__________________________________________________________________________________________________\n",
            "conv2d_transpose_2 (Conv2DTrans (None, 32, 32, 256)  1179904     conv2d_2[0][0]                   \n",
            "__________________________________________________________________________________________________\n",
            "concatenate_2 (Concatenate)     (None, 32, 32, 512)  0           conv2d_transpose_2[0][0]         \n",
            "                                                                 block3_conv3[0][0]               \n",
            "__________________________________________________________________________________________________\n",
            "dropout_2 (Dropout)             (None, 32, 32, 512)  0           concatenate_2[0][0]              \n",
            "__________________________________________________________________________________________________\n",
            "conv2d_3 (Conv2D)               (None, 32, 32, 256)  1179904     dropout_2[0][0]                  \n",
            "__________________________________________________________________________________________________\n",
            "conv2d_4 (Conv2D)               (None, 32, 32, 256)  590080      conv2d_3[0][0]                   \n",
            "__________________________________________________________________________________________________\n",
            "conv2d_transpose_3 (Conv2DTrans (None, 64, 64, 128)  295040      conv2d_4[0][0]                   \n",
            "__________________________________________________________________________________________________\n",
            "concatenate_3 (Concatenate)     (None, 64, 64, 256)  0           conv2d_transpose_3[0][0]         \n",
            "                                                                 block2_conv2[0][0]               \n",
            "__________________________________________________________________________________________________\n",
            "dropout_3 (Dropout)             (None, 64, 64, 256)  0           concatenate_3[0][0]              \n",
            "__________________________________________________________________________________________________\n",
            "conv2d_5 (Conv2D)               (None, 64, 64, 128)  295040      dropout_3[0][0]                  \n",
            "__________________________________________________________________________________________________\n",
            "conv2d_6 (Conv2D)               (None, 64, 64, 128)  147584      conv2d_5[0][0]                   \n",
            "__________________________________________________________________________________________________\n",
            "conv2d_transpose_4 (Conv2DTrans (None, 128, 128, 64) 73792       conv2d_6[0][0]                   \n",
            "__________________________________________________________________________________________________\n",
            "concatenate_4 (Concatenate)     (None, 128, 128, 128 0           conv2d_transpose_4[0][0]         \n",
            "                                                                 block1_conv2[0][0]               \n",
            "__________________________________________________________________________________________________\n",
            "dropout_4 (Dropout)             (None, 128, 128, 128 0           concatenate_4[0][0]              \n",
            "__________________________________________________________________________________________________\n",
            "conv2d_7 (Conv2D)               (None, 128, 128, 64) 73792       dropout_4[0][0]                  \n",
            "__________________________________________________________________________________________________\n",
            "conv2d_8 (Conv2D)               (None, 128, 128, 64) 36928       conv2d_7[0][0]                   \n",
            "__________________________________________________________________________________________________\n",
            "conv2d_9 (Conv2D)               (None, 128, 128, 1)  65          conv2d_8[0][0]                   \n",
            "==================================================================================================\n",
            "Total params: 28,025,537\n",
            "Trainable params: 26,290,049\n",
            "Non-trainable params: 1,735,488\n",
            "__________________________________________________________________________________________________\n"
          ],
          "name": "stdout"
        }
      ]
    },
    {
      "cell_type": "code",
      "metadata": {
        "id": "liAPF6lH80Gy",
        "colab_type": "code",
        "outputId": "4d4a0893-79b9-4ce4-e390-0831b3b4409a",
        "colab": {
          "base_uri": "https://localhost:8080/",
          "height": 1258
        }
      },
      "source": [
        "layers = [(layer, layer.name,layer.trainable) for layer in unets[0].layers]\n",
        "pd.DataFrame(layers, columns=['Layer Type', 'Layer Name', 'Layer Trainable'])"
      ],
      "execution_count": 7,
      "outputs": [
        {
          "output_type": "execute_result",
          "data": {
            "text/html": [
              "<div>\n",
              "<style scoped>\n",
              "    .dataframe tbody tr th:only-of-type {\n",
              "        vertical-align: middle;\n",
              "    }\n",
              "\n",
              "    .dataframe tbody tr th {\n",
              "        vertical-align: top;\n",
              "    }\n",
              "\n",
              "    .dataframe thead th {\n",
              "        text-align: right;\n",
              "    }\n",
              "</style>\n",
              "<table border=\"1\" class=\"dataframe\">\n",
              "  <thead>\n",
              "    <tr style=\"text-align: right;\">\n",
              "      <th></th>\n",
              "      <th>Layer Type</th>\n",
              "      <th>Layer Name</th>\n",
              "      <th>Layer Trainable</th>\n",
              "    </tr>\n",
              "  </thead>\n",
              "  <tbody>\n",
              "    <tr>\n",
              "      <th>0</th>\n",
              "      <td>&lt;keras.engine.input_layer.InputLayer object at...</td>\n",
              "      <td>input_1</td>\n",
              "      <td>False</td>\n",
              "    </tr>\n",
              "    <tr>\n",
              "      <th>1</th>\n",
              "      <td>&lt;keras.layers.convolutional.Conv2D object at 0...</td>\n",
              "      <td>block1_conv1</td>\n",
              "      <td>False</td>\n",
              "    </tr>\n",
              "    <tr>\n",
              "      <th>2</th>\n",
              "      <td>&lt;keras.layers.convolutional.Conv2D object at 0...</td>\n",
              "      <td>block1_conv2</td>\n",
              "      <td>False</td>\n",
              "    </tr>\n",
              "    <tr>\n",
              "      <th>3</th>\n",
              "      <td>&lt;keras.layers.pooling.MaxPooling2D object at 0...</td>\n",
              "      <td>block1_pool</td>\n",
              "      <td>False</td>\n",
              "    </tr>\n",
              "    <tr>\n",
              "      <th>4</th>\n",
              "      <td>&lt;keras.layers.convolutional.Conv2D object at 0...</td>\n",
              "      <td>block2_conv1</td>\n",
              "      <td>False</td>\n",
              "    </tr>\n",
              "    <tr>\n",
              "      <th>5</th>\n",
              "      <td>&lt;keras.layers.convolutional.Conv2D object at 0...</td>\n",
              "      <td>block2_conv2</td>\n",
              "      <td>False</td>\n",
              "    </tr>\n",
              "    <tr>\n",
              "      <th>6</th>\n",
              "      <td>&lt;keras.layers.pooling.MaxPooling2D object at 0...</td>\n",
              "      <td>block2_pool</td>\n",
              "      <td>False</td>\n",
              "    </tr>\n",
              "    <tr>\n",
              "      <th>7</th>\n",
              "      <td>&lt;keras.layers.convolutional.Conv2D object at 0...</td>\n",
              "      <td>block3_conv1</td>\n",
              "      <td>False</td>\n",
              "    </tr>\n",
              "    <tr>\n",
              "      <th>8</th>\n",
              "      <td>&lt;keras.layers.convolutional.Conv2D object at 0...</td>\n",
              "      <td>block3_conv2</td>\n",
              "      <td>False</td>\n",
              "    </tr>\n",
              "    <tr>\n",
              "      <th>9</th>\n",
              "      <td>&lt;keras.layers.convolutional.Conv2D object at 0...</td>\n",
              "      <td>block3_conv3</td>\n",
              "      <td>False</td>\n",
              "    </tr>\n",
              "    <tr>\n",
              "      <th>10</th>\n",
              "      <td>&lt;keras.layers.pooling.MaxPooling2D object at 0...</td>\n",
              "      <td>block3_pool</td>\n",
              "      <td>False</td>\n",
              "    </tr>\n",
              "    <tr>\n",
              "      <th>11</th>\n",
              "      <td>&lt;keras.layers.convolutional.Conv2D object at 0...</td>\n",
              "      <td>block4_conv1</td>\n",
              "      <td>True</td>\n",
              "    </tr>\n",
              "    <tr>\n",
              "      <th>12</th>\n",
              "      <td>&lt;keras.layers.convolutional.Conv2D object at 0...</td>\n",
              "      <td>block4_conv2</td>\n",
              "      <td>True</td>\n",
              "    </tr>\n",
              "    <tr>\n",
              "      <th>13</th>\n",
              "      <td>&lt;keras.layers.convolutional.Conv2D object at 0...</td>\n",
              "      <td>block4_conv3</td>\n",
              "      <td>True</td>\n",
              "    </tr>\n",
              "    <tr>\n",
              "      <th>14</th>\n",
              "      <td>&lt;keras.layers.pooling.MaxPooling2D object at 0...</td>\n",
              "      <td>block4_pool</td>\n",
              "      <td>True</td>\n",
              "    </tr>\n",
              "    <tr>\n",
              "      <th>15</th>\n",
              "      <td>&lt;keras.layers.convolutional.Conv2D object at 0...</td>\n",
              "      <td>block5_conv1</td>\n",
              "      <td>True</td>\n",
              "    </tr>\n",
              "    <tr>\n",
              "      <th>16</th>\n",
              "      <td>&lt;keras.layers.convolutional.Conv2D object at 0...</td>\n",
              "      <td>block5_conv2</td>\n",
              "      <td>True</td>\n",
              "    </tr>\n",
              "    <tr>\n",
              "      <th>17</th>\n",
              "      <td>&lt;keras.layers.convolutional.Conv2D object at 0...</td>\n",
              "      <td>block5_conv3</td>\n",
              "      <td>True</td>\n",
              "    </tr>\n",
              "    <tr>\n",
              "      <th>18</th>\n",
              "      <td>&lt;keras.layers.convolutional.Conv2DTranspose ob...</td>\n",
              "      <td>conv2d_transpose_1</td>\n",
              "      <td>True</td>\n",
              "    </tr>\n",
              "    <tr>\n",
              "      <th>19</th>\n",
              "      <td>&lt;keras.layers.merge.Concatenate object at 0x7e...</td>\n",
              "      <td>concatenate_1</td>\n",
              "      <td>True</td>\n",
              "    </tr>\n",
              "    <tr>\n",
              "      <th>20</th>\n",
              "      <td>&lt;keras.layers.core.Dropout object at 0x7eff20e...</td>\n",
              "      <td>dropout_1</td>\n",
              "      <td>True</td>\n",
              "    </tr>\n",
              "    <tr>\n",
              "      <th>21</th>\n",
              "      <td>&lt;keras.layers.convolutional.Conv2D object at 0...</td>\n",
              "      <td>conv2d_1</td>\n",
              "      <td>True</td>\n",
              "    </tr>\n",
              "    <tr>\n",
              "      <th>22</th>\n",
              "      <td>&lt;keras.layers.convolutional.Conv2D object at 0...</td>\n",
              "      <td>conv2d_2</td>\n",
              "      <td>True</td>\n",
              "    </tr>\n",
              "    <tr>\n",
              "      <th>23</th>\n",
              "      <td>&lt;keras.layers.convolutional.Conv2DTranspose ob...</td>\n",
              "      <td>conv2d_transpose_2</td>\n",
              "      <td>True</td>\n",
              "    </tr>\n",
              "    <tr>\n",
              "      <th>24</th>\n",
              "      <td>&lt;keras.layers.merge.Concatenate object at 0x7e...</td>\n",
              "      <td>concatenate_2</td>\n",
              "      <td>True</td>\n",
              "    </tr>\n",
              "    <tr>\n",
              "      <th>25</th>\n",
              "      <td>&lt;keras.layers.core.Dropout object at 0x7eff205...</td>\n",
              "      <td>dropout_2</td>\n",
              "      <td>True</td>\n",
              "    </tr>\n",
              "    <tr>\n",
              "      <th>26</th>\n",
              "      <td>&lt;keras.layers.convolutional.Conv2D object at 0...</td>\n",
              "      <td>conv2d_3</td>\n",
              "      <td>True</td>\n",
              "    </tr>\n",
              "    <tr>\n",
              "      <th>27</th>\n",
              "      <td>&lt;keras.layers.convolutional.Conv2D object at 0...</td>\n",
              "      <td>conv2d_4</td>\n",
              "      <td>True</td>\n",
              "    </tr>\n",
              "    <tr>\n",
              "      <th>28</th>\n",
              "      <td>&lt;keras.layers.convolutional.Conv2DTranspose ob...</td>\n",
              "      <td>conv2d_transpose_3</td>\n",
              "      <td>True</td>\n",
              "    </tr>\n",
              "    <tr>\n",
              "      <th>29</th>\n",
              "      <td>&lt;keras.layers.merge.Concatenate object at 0x7e...</td>\n",
              "      <td>concatenate_3</td>\n",
              "      <td>True</td>\n",
              "    </tr>\n",
              "    <tr>\n",
              "      <th>30</th>\n",
              "      <td>&lt;keras.layers.core.Dropout object at 0x7eff204...</td>\n",
              "      <td>dropout_3</td>\n",
              "      <td>True</td>\n",
              "    </tr>\n",
              "    <tr>\n",
              "      <th>31</th>\n",
              "      <td>&lt;keras.layers.convolutional.Conv2D object at 0...</td>\n",
              "      <td>conv2d_5</td>\n",
              "      <td>True</td>\n",
              "    </tr>\n",
              "    <tr>\n",
              "      <th>32</th>\n",
              "      <td>&lt;keras.layers.convolutional.Conv2D object at 0...</td>\n",
              "      <td>conv2d_6</td>\n",
              "      <td>True</td>\n",
              "    </tr>\n",
              "    <tr>\n",
              "      <th>33</th>\n",
              "      <td>&lt;keras.layers.convolutional.Conv2DTranspose ob...</td>\n",
              "      <td>conv2d_transpose_4</td>\n",
              "      <td>True</td>\n",
              "    </tr>\n",
              "    <tr>\n",
              "      <th>34</th>\n",
              "      <td>&lt;keras.layers.merge.Concatenate object at 0x7e...</td>\n",
              "      <td>concatenate_4</td>\n",
              "      <td>True</td>\n",
              "    </tr>\n",
              "    <tr>\n",
              "      <th>35</th>\n",
              "      <td>&lt;keras.layers.core.Dropout object at 0x7eff204...</td>\n",
              "      <td>dropout_4</td>\n",
              "      <td>True</td>\n",
              "    </tr>\n",
              "    <tr>\n",
              "      <th>36</th>\n",
              "      <td>&lt;keras.layers.convolutional.Conv2D object at 0...</td>\n",
              "      <td>conv2d_7</td>\n",
              "      <td>True</td>\n",
              "    </tr>\n",
              "    <tr>\n",
              "      <th>37</th>\n",
              "      <td>&lt;keras.layers.convolutional.Conv2D object at 0...</td>\n",
              "      <td>conv2d_8</td>\n",
              "      <td>True</td>\n",
              "    </tr>\n",
              "    <tr>\n",
              "      <th>38</th>\n",
              "      <td>&lt;keras.layers.convolutional.Conv2D object at 0...</td>\n",
              "      <td>conv2d_9</td>\n",
              "      <td>True</td>\n",
              "    </tr>\n",
              "  </tbody>\n",
              "</table>\n",
              "</div>"
            ],
            "text/plain": [
              "                                           Layer Type  ... Layer Trainable\n",
              "0   <keras.engine.input_layer.InputLayer object at...  ...           False\n",
              "1   <keras.layers.convolutional.Conv2D object at 0...  ...           False\n",
              "2   <keras.layers.convolutional.Conv2D object at 0...  ...           False\n",
              "3   <keras.layers.pooling.MaxPooling2D object at 0...  ...           False\n",
              "4   <keras.layers.convolutional.Conv2D object at 0...  ...           False\n",
              "5   <keras.layers.convolutional.Conv2D object at 0...  ...           False\n",
              "6   <keras.layers.pooling.MaxPooling2D object at 0...  ...           False\n",
              "7   <keras.layers.convolutional.Conv2D object at 0...  ...           False\n",
              "8   <keras.layers.convolutional.Conv2D object at 0...  ...           False\n",
              "9   <keras.layers.convolutional.Conv2D object at 0...  ...           False\n",
              "10  <keras.layers.pooling.MaxPooling2D object at 0...  ...           False\n",
              "11  <keras.layers.convolutional.Conv2D object at 0...  ...            True\n",
              "12  <keras.layers.convolutional.Conv2D object at 0...  ...            True\n",
              "13  <keras.layers.convolutional.Conv2D object at 0...  ...            True\n",
              "14  <keras.layers.pooling.MaxPooling2D object at 0...  ...            True\n",
              "15  <keras.layers.convolutional.Conv2D object at 0...  ...            True\n",
              "16  <keras.layers.convolutional.Conv2D object at 0...  ...            True\n",
              "17  <keras.layers.convolutional.Conv2D object at 0...  ...            True\n",
              "18  <keras.layers.convolutional.Conv2DTranspose ob...  ...            True\n",
              "19  <keras.layers.merge.Concatenate object at 0x7e...  ...            True\n",
              "20  <keras.layers.core.Dropout object at 0x7eff20e...  ...            True\n",
              "21  <keras.layers.convolutional.Conv2D object at 0...  ...            True\n",
              "22  <keras.layers.convolutional.Conv2D object at 0...  ...            True\n",
              "23  <keras.layers.convolutional.Conv2DTranspose ob...  ...            True\n",
              "24  <keras.layers.merge.Concatenate object at 0x7e...  ...            True\n",
              "25  <keras.layers.core.Dropout object at 0x7eff205...  ...            True\n",
              "26  <keras.layers.convolutional.Conv2D object at 0...  ...            True\n",
              "27  <keras.layers.convolutional.Conv2D object at 0...  ...            True\n",
              "28  <keras.layers.convolutional.Conv2DTranspose ob...  ...            True\n",
              "29  <keras.layers.merge.Concatenate object at 0x7e...  ...            True\n",
              "30  <keras.layers.core.Dropout object at 0x7eff204...  ...            True\n",
              "31  <keras.layers.convolutional.Conv2D object at 0...  ...            True\n",
              "32  <keras.layers.convolutional.Conv2D object at 0...  ...            True\n",
              "33  <keras.layers.convolutional.Conv2DTranspose ob...  ...            True\n",
              "34  <keras.layers.merge.Concatenate object at 0x7e...  ...            True\n",
              "35  <keras.layers.core.Dropout object at 0x7eff204...  ...            True\n",
              "36  <keras.layers.convolutional.Conv2D object at 0...  ...            True\n",
              "37  <keras.layers.convolutional.Conv2D object at 0...  ...            True\n",
              "38  <keras.layers.convolutional.Conv2D object at 0...  ...            True\n",
              "\n",
              "[39 rows x 3 columns]"
            ]
          },
          "metadata": {
            "tags": []
          },
          "execution_count": 7
        }
      ]
    },
    {
      "cell_type": "code",
      "metadata": {
        "id": "IVSMiTDCE3es",
        "colab_type": "code",
        "outputId": "9d509061-87fb-464e-9e9f-1e8a374d2f35",
        "colab": {
          "base_uri": "https://localhost:8080/",
          "height": 4729
        }
      },
      "source": [
        "from keras.callbacks import ModelCheckpoint, EarlyStopping, ReduceLROnPlateau\n",
        "from sklearn.preprocessing import LabelEncoder\n",
        "\n",
        "model_checkpoint  = ModelCheckpoint('model_best_checkpoint.h5', save_best_only=True, monitor='val_loss', mode='min', verbose=0)\n",
        "early_stopping = EarlyStopping(monitor='val_loss', patience=10, mode='min')\n",
        "reduceLR = ReduceLROnPlateau(patience=4, verbose=0, monitor='val_loss',min_lr=1e-4)\n",
        "\n",
        "callback_list = [model_checkpoint,early_stopping, reduceLR]\n",
        "\n",
        "i=1\n",
        "for train_index, test_index in skf.split(X, LabelEncoder().fit_transform(pd.qcut(Z,5))):\n",
        "      train_generator = train_datagen.flow(X[train_index], Y[train_index], batch_size=32)\n",
        "      val_generator = val_datagen.flow(X[test_index], Y[test_index], batch_size=32)\n",
        "      print(\"----------------------------------Training {} UNET-----------------------\".format(i))\n",
        "      history = unets[i-1].fit_generator(train_generator, steps_per_epoch=20, epochs=150,\n",
        "                              validation_data=val_generator, validation_steps=15, \n",
        "                              verbose=2,callbacks=callback_list)\n",
        "      i+=1"
      ],
      "execution_count": 8,
      "outputs": [
        {
          "output_type": "stream",
          "text": [
            "----------------------------------Training 1 UNET-----------------------\n",
            "WARNING:tensorflow:From /usr/local/lib/python3.6/dist-packages/tensorflow/python/ops/math_ops.py:3066: to_int32 (from tensorflow.python.ops.math_ops) is deprecated and will be removed in a future version.\n",
            "Instructions for updating:\n",
            "Use tf.cast instead.\n",
            "Epoch 1/150\n",
            " - 20s - loss: 0.9399 - acc: 0.6926 - val_loss: 0.4272 - val_acc: 0.8264\n",
            "Epoch 2/150\n",
            " - 11s - loss: 0.4707 - acc: 0.8030 - val_loss: 0.4331 - val_acc: 0.8115\n",
            "Epoch 3/150\n",
            " - 10s - loss: 0.4494 - acc: 0.8053 - val_loss: 0.3627 - val_acc: 0.8633\n",
            "Epoch 4/150\n",
            " - 10s - loss: 0.3771 - acc: 0.8495 - val_loss: 0.3441 - val_acc: 0.8584\n",
            "Epoch 5/150\n",
            " - 16s - loss: 0.3487 - acc: 0.8605 - val_loss: 0.2975 - val_acc: 0.8912\n",
            "Epoch 6/150\n",
            " - 10s - loss: 0.3639 - acc: 0.8600 - val_loss: 0.3449 - val_acc: 0.8491\n",
            "Epoch 7/150\n",
            " - 10s - loss: 0.3579 - acc: 0.8592 - val_loss: 0.3093 - val_acc: 0.8875\n",
            "Epoch 8/150\n",
            " - 10s - loss: 0.3418 - acc: 0.8618 - val_loss: 0.2837 - val_acc: 0.8897\n",
            "Epoch 9/150\n",
            " - 10s - loss: 0.3589 - acc: 0.8553 - val_loss: 0.2927 - val_acc: 0.8834\n",
            "Epoch 10/150\n",
            " - 10s - loss: 0.3354 - acc: 0.8696 - val_loss: 0.2990 - val_acc: 0.8880\n",
            "Epoch 11/150\n",
            " - 10s - loss: 0.3398 - acc: 0.8656 - val_loss: 0.3069 - val_acc: 0.8780\n",
            "Epoch 12/150\n",
            " - 10s - loss: 0.2974 - acc: 0.8830 - val_loss: 0.2771 - val_acc: 0.8943\n",
            "Epoch 13/150\n",
            " - 10s - loss: 0.3344 - acc: 0.8619 - val_loss: 0.3002 - val_acc: 0.8755\n",
            "Epoch 14/150\n",
            " - 10s - loss: 0.3334 - acc: 0.8627 - val_loss: 0.2786 - val_acc: 0.8914\n",
            "Epoch 15/150\n",
            " - 10s - loss: 0.3296 - acc: 0.8656 - val_loss: 0.2747 - val_acc: 0.8921\n",
            "Epoch 16/150\n",
            " - 10s - loss: 0.3397 - acc: 0.8689 - val_loss: 0.2883 - val_acc: 0.9095\n",
            "Epoch 17/150\n",
            " - 10s - loss: 0.3382 - acc: 0.8669 - val_loss: 0.2658 - val_acc: 0.9000\n",
            "Epoch 18/150\n",
            " - 10s - loss: 0.3044 - acc: 0.8791 - val_loss: 0.2815 - val_acc: 0.8923\n",
            "Epoch 19/150\n",
            " - 10s - loss: 0.3012 - acc: 0.8754 - val_loss: 0.2773 - val_acc: 0.9004\n",
            "Epoch 20/150\n",
            " - 10s - loss: 0.2898 - acc: 0.8873 - val_loss: 0.2469 - val_acc: 0.9011\n",
            "Epoch 21/150\n",
            " - 10s - loss: 0.2644 - acc: 0.8973 - val_loss: 0.2703 - val_acc: 0.8948\n",
            "Epoch 22/150\n",
            " - 11s - loss: 0.2872 - acc: 0.8853 - val_loss: 0.2324 - val_acc: 0.9110\n",
            "Epoch 23/150\n",
            " - 10s - loss: 0.2977 - acc: 0.8753 - val_loss: 0.2374 - val_acc: 0.9135\n",
            "Epoch 24/150\n",
            " - 11s - loss: 0.3022 - acc: 0.8694 - val_loss: 0.2541 - val_acc: 0.8997\n",
            "Epoch 25/150\n",
            " - 10s - loss: 0.2679 - acc: 0.8954 - val_loss: 0.2270 - val_acc: 0.9141\n",
            "Epoch 26/150\n",
            " - 10s - loss: 0.2954 - acc: 0.8832 - val_loss: 0.2482 - val_acc: 0.9068\n",
            "Epoch 27/150\n",
            " - 11s - loss: 0.2752 - acc: 0.8933 - val_loss: 0.2616 - val_acc: 0.9051\n",
            "Epoch 28/150\n",
            " - 10s - loss: 0.2723 - acc: 0.8917 - val_loss: 0.2316 - val_acc: 0.9035\n",
            "Epoch 29/150\n",
            " - 11s - loss: 0.2926 - acc: 0.8774 - val_loss: 0.2445 - val_acc: 0.9093\n",
            "Epoch 30/150\n",
            " - 10s - loss: 0.2484 - acc: 0.9043 - val_loss: 0.2275 - val_acc: 0.9084\n",
            "Epoch 31/150\n",
            " - 11s - loss: 0.2491 - acc: 0.9011 - val_loss: 0.2223 - val_acc: 0.9152\n",
            "Epoch 32/150\n",
            " - 10s - loss: 0.2539 - acc: 0.8988 - val_loss: 0.2151 - val_acc: 0.9175\n",
            "Epoch 33/150\n",
            " - 10s - loss: 0.2478 - acc: 0.9007 - val_loss: 0.2132 - val_acc: 0.9181\n",
            "Epoch 34/150\n",
            " - 11s - loss: 0.2199 - acc: 0.9158 - val_loss: 0.2122 - val_acc: 0.9200\n",
            "Epoch 35/150\n",
            " - 10s - loss: 0.2898 - acc: 0.8814 - val_loss: 0.2213 - val_acc: 0.9167\n",
            "Epoch 36/150\n",
            " - 11s - loss: 0.2627 - acc: 0.8915 - val_loss: 0.2182 - val_acc: 0.9195\n",
            "Epoch 37/150\n",
            " - 10s - loss: 0.2450 - acc: 0.9008 - val_loss: 0.2334 - val_acc: 0.9083\n",
            "Epoch 38/150\n",
            " - 11s - loss: 0.2233 - acc: 0.9110 - val_loss: 0.2220 - val_acc: 0.9109\n",
            "Epoch 39/150\n",
            " - 10s - loss: 0.2426 - acc: 0.9060 - val_loss: 0.2147 - val_acc: 0.9181\n",
            "Epoch 40/150\n",
            " - 10s - loss: 0.2539 - acc: 0.8942 - val_loss: 0.2086 - val_acc: 0.9159\n",
            "Epoch 41/150\n",
            " - 11s - loss: 0.2478 - acc: 0.8976 - val_loss: 0.2196 - val_acc: 0.9162\n",
            "Epoch 42/150\n",
            " - 10s - loss: 0.2486 - acc: 0.8977 - val_loss: 0.2059 - val_acc: 0.9201\n",
            "Epoch 43/150\n",
            " - 11s - loss: 0.2327 - acc: 0.9063 - val_loss: 0.2459 - val_acc: 0.8999\n",
            "Epoch 44/150\n",
            " - 10s - loss: 0.2323 - acc: 0.9077 - val_loss: 0.1786 - val_acc: 0.9381\n",
            "Epoch 45/150\n",
            " - 11s - loss: 0.2485 - acc: 0.9028 - val_loss: 0.2341 - val_acc: 0.9046\n",
            "Epoch 46/150\n",
            " - 10s - loss: 0.2484 - acc: 0.8992 - val_loss: 0.2126 - val_acc: 0.9186\n",
            "Epoch 47/150\n",
            " - 10s - loss: 0.2307 - acc: 0.9076 - val_loss: 0.2104 - val_acc: 0.9192\n",
            "Epoch 48/150\n",
            " - 11s - loss: 0.2489 - acc: 0.9029 - val_loss: 0.2126 - val_acc: 0.9165\n",
            "Epoch 49/150\n",
            " - 10s - loss: 0.2588 - acc: 0.8939 - val_loss: 0.1906 - val_acc: 0.9305\n",
            "Epoch 50/150\n",
            " - 11s - loss: 0.2290 - acc: 0.9094 - val_loss: 0.2169 - val_acc: 0.9167\n",
            "Epoch 51/150\n",
            " - 10s - loss: 0.2353 - acc: 0.9074 - val_loss: 0.2108 - val_acc: 0.9162\n",
            "Epoch 52/150\n",
            " - 10s - loss: 0.2353 - acc: 0.9046 - val_loss: 0.2129 - val_acc: 0.9184\n",
            "Epoch 53/150\n",
            " - 11s - loss: 0.2463 - acc: 0.8993 - val_loss: 0.2035 - val_acc: 0.9262\n",
            "Epoch 54/150\n",
            " - 10s - loss: 0.2629 - acc: 0.8952 - val_loss: 0.2214 - val_acc: 0.9088\n",
            "----------------------------------Training 2 UNET-----------------------\n",
            "Epoch 1/150\n",
            " - 13s - loss: 0.3581 - acc: 0.8536 - val_loss: 0.2686 - val_acc: 0.8947\n",
            "Epoch 2/150\n",
            " - 11s - loss: 0.2631 - acc: 0.8982 - val_loss: 0.2082 - val_acc: 0.9158\n",
            "Epoch 3/150\n",
            " - 11s - loss: 0.2433 - acc: 0.9044 - val_loss: 0.2647 - val_acc: 0.8887\n",
            "Epoch 4/150\n",
            " - 10s - loss: 0.2632 - acc: 0.8964 - val_loss: 0.2509 - val_acc: 0.8969\n",
            "Epoch 5/150\n",
            " - 16s - loss: 0.2404 - acc: 0.9104 - val_loss: 0.2220 - val_acc: 0.9102\n",
            "Epoch 6/150\n",
            " - 10s - loss: 0.2673 - acc: 0.8987 - val_loss: 0.2626 - val_acc: 0.8946\n",
            "Epoch 7/150\n",
            " - 10s - loss: 0.2419 - acc: 0.9061 - val_loss: 0.2065 - val_acc: 0.9190\n",
            "Epoch 8/150\n",
            " - 10s - loss: 0.2245 - acc: 0.9139 - val_loss: 0.2399 - val_acc: 0.9001\n",
            "Epoch 9/150\n",
            " - 10s - loss: 0.2530 - acc: 0.8994 - val_loss: 0.2011 - val_acc: 0.9195\n",
            "Epoch 10/150\n",
            " - 11s - loss: 0.2314 - acc: 0.9059 - val_loss: 0.2193 - val_acc: 0.9116\n",
            "Epoch 11/150\n",
            " - 10s - loss: 0.2208 - acc: 0.9131 - val_loss: 0.2151 - val_acc: 0.9151\n",
            "Epoch 12/150\n",
            " - 11s - loss: 0.2383 - acc: 0.9047 - val_loss: 0.2386 - val_acc: 0.9011\n",
            "Epoch 13/150\n",
            " - 10s - loss: 0.2237 - acc: 0.9084 - val_loss: 0.2293 - val_acc: 0.9081\n",
            "Epoch 14/150\n",
            " - 10s - loss: 0.2200 - acc: 0.9128 - val_loss: 0.2091 - val_acc: 0.9144\n",
            "Epoch 15/150\n",
            " - 11s - loss: 0.2335 - acc: 0.9123 - val_loss: 0.2306 - val_acc: 0.9058\n",
            "Epoch 16/150\n",
            " - 10s - loss: 0.2417 - acc: 0.9067 - val_loss: 0.2158 - val_acc: 0.9139\n",
            "Epoch 17/150\n",
            " - 11s - loss: 0.2201 - acc: 0.9162 - val_loss: 0.2200 - val_acc: 0.9124\n",
            "Epoch 18/150\n",
            " - 10s - loss: 0.2337 - acc: 0.9035 - val_loss: 0.2148 - val_acc: 0.9164\n",
            "Epoch 19/150\n",
            " - 11s - loss: 0.2310 - acc: 0.9076 - val_loss: 0.2258 - val_acc: 0.9081\n",
            "----------------------------------Training 3 UNET-----------------------\n",
            "Epoch 1/150\n",
            " - 14s - loss: 0.3642 - acc: 0.8443 - val_loss: 0.2523 - val_acc: 0.8918\n",
            "Epoch 2/150\n",
            " - 10s - loss: 0.2836 - acc: 0.8958 - val_loss: 0.2400 - val_acc: 0.9121\n",
            "Epoch 3/150\n",
            " - 11s - loss: 0.2647 - acc: 0.8933 - val_loss: 0.1951 - val_acc: 0.9355\n",
            "Epoch 4/150\n",
            " - 11s - loss: 0.2446 - acc: 0.9031 - val_loss: 0.2245 - val_acc: 0.9203\n",
            "Epoch 5/150\n",
            " - 11s - loss: 0.2576 - acc: 0.8997 - val_loss: 0.2012 - val_acc: 0.9311\n",
            "Epoch 6/150\n",
            " - 11s - loss: 0.2645 - acc: 0.8995 - val_loss: 0.2010 - val_acc: 0.9234\n",
            "Epoch 7/150\n",
            " - 10s - loss: 0.2662 - acc: 0.8936 - val_loss: 0.1981 - val_acc: 0.9230\n",
            "Epoch 8/150\n",
            " - 10s - loss: 0.2458 - acc: 0.9000 - val_loss: 0.1941 - val_acc: 0.9275\n",
            "Epoch 9/150\n",
            " - 10s - loss: 0.2471 - acc: 0.8990 - val_loss: 0.1870 - val_acc: 0.9355\n",
            "Epoch 10/150\n",
            " - 11s - loss: 0.2214 - acc: 0.9125 - val_loss: 0.2068 - val_acc: 0.9231\n",
            "Epoch 11/150\n",
            " - 11s - loss: 0.2386 - acc: 0.9034 - val_loss: 0.1936 - val_acc: 0.9296\n",
            "Epoch 12/150\n",
            " - 11s - loss: 0.2302 - acc: 0.9069 - val_loss: 0.2036 - val_acc: 0.9222\n",
            "Epoch 13/150\n",
            " - 11s - loss: 0.2288 - acc: 0.9064 - val_loss: 0.1737 - val_acc: 0.9376\n",
            "Epoch 14/150\n",
            " - 11s - loss: 0.2172 - acc: 0.9110 - val_loss: 0.1925 - val_acc: 0.9302\n",
            "Epoch 15/150\n",
            " - 11s - loss: 0.2414 - acc: 0.9035 - val_loss: 0.1987 - val_acc: 0.9267\n",
            "Epoch 16/150\n",
            " - 11s - loss: 0.2241 - acc: 0.9095 - val_loss: 0.1869 - val_acc: 0.9312\n",
            "Epoch 17/150\n",
            " - 11s - loss: 0.2160 - acc: 0.9128 - val_loss: 0.1934 - val_acc: 0.9242\n",
            "Epoch 18/150\n",
            " - 11s - loss: 0.2306 - acc: 0.9106 - val_loss: 0.1867 - val_acc: 0.9321\n",
            "Epoch 19/150\n",
            " - 11s - loss: 0.2355 - acc: 0.9035 - val_loss: 0.1988 - val_acc: 0.9315\n",
            "Epoch 20/150\n",
            " - 11s - loss: 0.2442 - acc: 0.9017 - val_loss: 0.2031 - val_acc: 0.9308\n",
            "Epoch 21/150\n",
            " - 11s - loss: 0.2340 - acc: 0.9106 - val_loss: 0.1916 - val_acc: 0.9288\n",
            "Epoch 22/150\n",
            " - 11s - loss: 0.2288 - acc: 0.9063 - val_loss: 0.1934 - val_acc: 0.9283\n",
            "Epoch 23/150\n",
            " - 11s - loss: 0.2268 - acc: 0.9085 - val_loss: 0.1896 - val_acc: 0.9294\n",
            "----------------------------------Training 4 UNET-----------------------\n",
            "Epoch 1/150\n",
            " - 14s - loss: 0.3047 - acc: 0.8849 - val_loss: 0.2671 - val_acc: 0.8930\n",
            "Epoch 2/150\n",
            " - 11s - loss: 0.2559 - acc: 0.9066 - val_loss: 0.2433 - val_acc: 0.9028\n",
            "Epoch 3/150\n",
            " - 11s - loss: 0.2524 - acc: 0.9038 - val_loss: 0.2248 - val_acc: 0.9079\n",
            "Epoch 4/150\n",
            " - 11s - loss: 0.2348 - acc: 0.9093 - val_loss: 0.2435 - val_acc: 0.9016\n",
            "Epoch 5/150\n",
            " - 11s - loss: 0.2391 - acc: 0.9038 - val_loss: 0.2149 - val_acc: 0.9114\n",
            "Epoch 6/150\n",
            " - 11s - loss: 0.2390 - acc: 0.9028 - val_loss: 0.2404 - val_acc: 0.9020\n",
            "Epoch 7/150\n",
            " - 11s - loss: 0.2264 - acc: 0.9110 - val_loss: 0.2088 - val_acc: 0.9121\n",
            "Epoch 8/150\n",
            " - 11s - loss: 0.2246 - acc: 0.9112 - val_loss: 0.2338 - val_acc: 0.9126\n",
            "Epoch 9/150\n",
            " - 11s - loss: 0.2702 - acc: 0.8983 - val_loss: 0.2265 - val_acc: 0.9089\n",
            "Epoch 10/150\n",
            " - 11s - loss: 0.2393 - acc: 0.9081 - val_loss: 0.2386 - val_acc: 0.9025\n",
            "Epoch 11/150\n",
            " - 10s - loss: 0.2744 - acc: 0.8901 - val_loss: 0.2558 - val_acc: 0.8932\n",
            "Epoch 12/150\n",
            " - 11s - loss: 0.2316 - acc: 0.9115 - val_loss: 0.2237 - val_acc: 0.9138\n",
            "Epoch 13/150\n",
            " - 11s - loss: 0.2282 - acc: 0.9060 - val_loss: 0.2332 - val_acc: 0.9032\n",
            "Epoch 14/150\n",
            " - 11s - loss: 0.2043 - acc: 0.9215 - val_loss: 0.1989 - val_acc: 0.9169\n",
            "Epoch 15/150\n",
            " - 11s - loss: 0.2275 - acc: 0.9115 - val_loss: 0.2264 - val_acc: 0.9077\n",
            "Epoch 16/150\n",
            " - 10s - loss: 0.2307 - acc: 0.9078 - val_loss: 0.2308 - val_acc: 0.9011\n",
            "Epoch 17/150\n",
            " - 11s - loss: 0.2038 - acc: 0.9193 - val_loss: 0.2037 - val_acc: 0.9224\n",
            "Epoch 18/150\n",
            " - 11s - loss: 0.2204 - acc: 0.9138 - val_loss: 0.2191 - val_acc: 0.9102\n",
            "Epoch 19/150\n",
            " - 11s - loss: 0.1988 - acc: 0.9204 - val_loss: 0.2137 - val_acc: 0.9165\n",
            "Epoch 20/150\n",
            " - 11s - loss: 0.2327 - acc: 0.9071 - val_loss: 0.2210 - val_acc: 0.9119\n",
            "Epoch 21/150\n",
            " - 10s - loss: 0.2292 - acc: 0.9067 - val_loss: 0.2035 - val_acc: 0.9193\n",
            "Epoch 22/150\n",
            " - 11s - loss: 0.2082 - acc: 0.9168 - val_loss: 0.2298 - val_acc: 0.9044\n",
            "Epoch 23/150\n",
            " - 11s - loss: 0.2048 - acc: 0.9164 - val_loss: 0.2061 - val_acc: 0.9196\n",
            "Epoch 24/150\n",
            " - 11s - loss: 0.2025 - acc: 0.9210 - val_loss: 0.2213 - val_acc: 0.9101\n",
            "----------------------------------Training 5 UNET-----------------------\n",
            "Epoch 1/150\n",
            " - 14s - loss: 0.2927 - acc: 0.8913 - val_loss: 0.2216 - val_acc: 0.9201\n",
            "Epoch 2/150\n",
            " - 11s - loss: 0.2393 - acc: 0.9056 - val_loss: 0.2160 - val_acc: 0.9170\n",
            "Epoch 3/150\n",
            " - 11s - loss: 0.2273 - acc: 0.9116 - val_loss: 0.2055 - val_acc: 0.9141\n",
            "Epoch 4/150\n",
            " - 11s - loss: 0.2639 - acc: 0.8986 - val_loss: 0.1731 - val_acc: 0.9335\n",
            "Epoch 5/150\n",
            " - 11s - loss: 0.2455 - acc: 0.9067 - val_loss: 0.2167 - val_acc: 0.9150\n",
            "Epoch 6/150\n",
            " - 11s - loss: 0.2627 - acc: 0.8974 - val_loss: 0.2171 - val_acc: 0.9223\n",
            "Epoch 7/150\n",
            " - 11s - loss: 0.2569 - acc: 0.8961 - val_loss: 0.1934 - val_acc: 0.9325\n",
            "Epoch 8/150\n",
            " - 11s - loss: 0.2285 - acc: 0.9086 - val_loss: 0.2096 - val_acc: 0.9149\n",
            "Epoch 9/150\n",
            " - 11s - loss: 0.2114 - acc: 0.9175 - val_loss: 0.1990 - val_acc: 0.9216\n",
            "Epoch 10/150\n",
            " - 11s - loss: 0.2143 - acc: 0.9198 - val_loss: 0.1880 - val_acc: 0.9217\n",
            "Epoch 11/150\n",
            " - 10s - loss: 0.2276 - acc: 0.9102 - val_loss: 0.1820 - val_acc: 0.9281\n",
            "Epoch 12/150\n",
            " - 11s - loss: 0.2269 - acc: 0.9088 - val_loss: 0.1993 - val_acc: 0.9204\n",
            "Epoch 13/150\n",
            " - 11s - loss: 0.2145 - acc: 0.9125 - val_loss: 0.1835 - val_acc: 0.9274\n",
            "Epoch 14/150\n",
            " - 11s - loss: 0.2182 - acc: 0.9148 - val_loss: 0.1785 - val_acc: 0.9303\n"
          ],
          "name": "stdout"
        }
      ]
    },
    {
      "cell_type": "code",
      "metadata": {
        "id": "8Kq85LdPln-L",
        "colab_type": "code",
        "colab": {
          "base_uri": "https://localhost:8080/",
          "height": 34
        },
        "outputId": "55cde7d6-4354-432c-e7f8-d27ce7073788"
      },
      "source": [
        "del X,Y; gc.collect()"
      ],
      "execution_count": 9,
      "outputs": [
        {
          "output_type": "execute_result",
          "data": {
            "text/plain": [
              "80"
            ]
          },
          "metadata": {
            "tags": []
          },
          "execution_count": 9
        }
      ]
    },
    {
      "cell_type": "markdown",
      "metadata": {
        "id": "_5cEoYPJMBYi",
        "colab_type": "text"
      },
      "source": [
        "### Model Performance\n",
        "1. Loss : 0.21\n",
        "2. Acc : 0.90"
      ]
    },
    {
      "cell_type": "code",
      "metadata": {
        "id": "aE8O5Dp_MFZ2",
        "colab_type": "code",
        "outputId": "b0ec0e4c-4891-42a0-dcf8-632c19995974",
        "colab": {
          "base_uri": "https://localhost:8080/",
          "height": 308
        }
      },
      "source": [
        "f, (ax1, ax2) = plt.subplots(1, 2, figsize=(12, 4))\n",
        "t = f.suptitle('Unet Performance', fontsize=12)\n",
        "f.subplots_adjust(top=0.85, wspace=0.3)\n",
        "\n",
        "\n",
        "epoch_list = history.epoch\n",
        "ax1.plot(epoch_list, history.history['acc'], label='Train Accuracy')\n",
        "ax1.plot(epoch_list, history.history['val_acc'], label='Validation Accuracy')\n",
        "ax1.set_xticks(np.arange(0, epoch_list[-1], 5))\n",
        "ax1.set_ylabel('Accuracy Value');ax1.set_xlabel('Epoch');ax1.set_title('Accuracy')\n",
        "l1 = ax1.legend(loc=\"best\");ax1.grid(color='gray', linestyle='-', linewidth=0.5)\n",
        "\n",
        "ax2.plot(epoch_list, history.history['loss'], label='Train Loss')\n",
        "ax2.plot(epoch_list, history.history['val_loss'], label='Validation Loss')\n",
        "ax2.set_xticks(np.arange(0, epoch_list[-1], 5))\n",
        "ax2.set_ylabel('Loss Value');ax2.set_xlabel('Epoch');ax2.set_title('Loss')\n",
        "l2 = ax2.legend(loc=\"best\");ax2.grid(color='gray', linestyle='-', linewidth=0.5)"
      ],
      "execution_count": 0,
      "outputs": [
        {
          "output_type": "display_data",
          "data": {
            "image/png": "[encoded data removed]",
            "text/plain": [
              "<Figure size 864x288 with 2 Axes>"
            ]
          },
          "metadata": {
            "tags": []
          }
        }
      ]
    },
    {
      "cell_type": "markdown",
      "metadata": {
        "id": "0owjHa6bNVpB",
        "colab_type": "text"
      },
      "source": [
        "## To Submit"
      ]
    },
    {
      "cell_type": "code",
      "metadata": {
        "id": "gBjbxtpMmmcT",
        "colab_type": "code",
        "colab": {}
      },
      "source": [
        "from keras.models import load_model\n",
        "#unet = load_model('model_best_checkpoint.h5')"
      ],
      "execution_count": 0,
      "outputs": []
    },
    {
      "cell_type": "code",
      "metadata": {
        "id": "Seyi7SYf9GQO",
        "colab_type": "code",
        "outputId": "612567d5-b27b-401b-8908-e6d095355d73",
        "colab": {
          "base_uri": "https://localhost:8080/",
          "height": 204
        }
      },
      "source": [
        "submission = pd.read_csv('sample_submission.csv',usecols=['id'])\n",
        "submission.head()"
      ],
      "execution_count": 10,
      "outputs": [
        {
          "output_type": "execute_result",
          "data": {
            "text/html": [
              "<div>\n",
              "<style scoped>\n",
              "    .dataframe tbody tr th:only-of-type {\n",
              "        vertical-align: middle;\n",
              "    }\n",
              "\n",
              "    .dataframe tbody tr th {\n",
              "        vertical-align: top;\n",
              "    }\n",
              "\n",
              "    .dataframe thead th {\n",
              "        text-align: right;\n",
              "    }\n",
              "</style>\n",
              "<table border=\"1\" class=\"dataframe\">\n",
              "  <thead>\n",
              "    <tr style=\"text-align: right;\">\n",
              "      <th></th>\n",
              "      <th>id</th>\n",
              "    </tr>\n",
              "  </thead>\n",
              "  <tbody>\n",
              "    <tr>\n",
              "      <th>0</th>\n",
              "      <td>155410d6fa</td>\n",
              "    </tr>\n",
              "    <tr>\n",
              "      <th>1</th>\n",
              "      <td>78b32781d1</td>\n",
              "    </tr>\n",
              "    <tr>\n",
              "      <th>2</th>\n",
              "      <td>63db2a476a</td>\n",
              "    </tr>\n",
              "    <tr>\n",
              "      <th>3</th>\n",
              "      <td>17bfcdb967</td>\n",
              "    </tr>\n",
              "    <tr>\n",
              "      <th>4</th>\n",
              "      <td>7ea0fd3c88</td>\n",
              "    </tr>\n",
              "  </tbody>\n",
              "</table>\n",
              "</div>"
            ],
            "text/plain": [
              "           id\n",
              "0  155410d6fa\n",
              "1  78b32781d1\n",
              "2  63db2a476a\n",
              "3  17bfcdb967\n",
              "4  7ea0fd3c88"
            ]
          },
          "metadata": {
            "tags": []
          },
          "execution_count": 10
        }
      ]
    },
    {
      "cell_type": "code",
      "metadata": {
        "id": "RKn9RBLkmv5w",
        "colab_type": "code",
        "colab": {}
      },
      "source": [
        "output = [ 'images/{}.png'.format(i) for i in submission.id.values ]\n",
        "output = np.array([ img_to_array( load_img(file, target_size = IMG_DIM ) ) for file in output ])\n",
        "output = np.array(output)"
      ],
      "execution_count": 0,
      "outputs": []
    },
    {
      "cell_type": "code",
      "metadata": {
        "id": "j8lp_Oixj9rR",
        "colab_type": "code",
        "outputId": "86333042-0cc7-4f44-8c11-e9651e88c35c",
        "colab": {
          "base_uri": "https://localhost:8080/",
          "height": 34
        }
      },
      "source": [
        "outputs = unets[0].predict(output)\n",
        "for unet in unets[1:]:\n",
        "  print(\"Added\")\n",
        "  outputs+=unet.predict(output)\n",
        "outputs/=5\n",
        "del output; gc.collect()"
      ],
      "execution_count": 15,
      "outputs": [
        {
          "output_type": "execute_result",
          "data": {
            "text/plain": [
              "191"
            ]
          },
          "metadata": {
            "tags": []
          },
          "execution_count": 15
        }
      ]
    },
    {
      "cell_type": "code",
      "metadata": {
        "id": "iJP9mUSxnG-r",
        "colab_type": "code",
        "colab": {}
      },
      "source": [
        "def process_output(out):\n",
        "  im = cv2.resize(out, (101,101), interpolation = cv2.INTER_AREA)\n",
        "  return (np.squeeze(im)>0.5)*1\n",
        "\n",
        "def rle_encode(im):\n",
        "  im = im.T\n",
        "  im = np.reshape(im,(101*101))\n",
        "  pixels = im.flatten(order = 'F')\n",
        "  pixels = np.concatenate([[0], pixels, [0]])\n",
        "  runs = np.where(pixels[1:] != pixels[:-1])[0] + 1\n",
        "  runs[1::2] -= runs[::2]\n",
        "  return ' '.join(str(x) for x in runs)"
      ],
      "execution_count": 0,
      "outputs": []
    },
    {
      "cell_type": "code",
      "metadata": {
        "id": "hsEtp4ttHoTl",
        "colab_type": "code",
        "outputId": "2bb91ca2-0a35-410a-cf3b-c6f1ce575183",
        "colab": {
          "base_uri": "https://localhost:8080/",
          "height": 221
        }
      },
      "source": [
        "f, (ax1, ax2) = plt.subplots(1, 2, figsize=(6, 4))\n",
        "im = cv2.resize(outputs[0], (101,101), interpolation = cv2.INTER_AREA)\n",
        "im = (np.squeeze(im)>0.5)*1\n",
        "ax1.imshow(im)\n",
        "im = rle_encode(im)\n",
        "im = rle_to_output(im)\n",
        "ax2.imshow(im)"
      ],
      "execution_count": 17,
      "outputs": [
        {
          "output_type": "execute_result",
          "data": {
            "text/plain": [
              "<matplotlib.image.AxesImage at 0x7efeec6c3390>"
            ]
          },
          "metadata": {
            "tags": []
          },
          "execution_count": 17
        },
        {
          "output_type": "display_data",
          "data": {
            "image/png": "[encoded data removed]",
            "text/plain": [
              "<Figure size 432x288 with 2 Axes>"
            ]
          },
          "metadata": {
            "tags": []
          }
        }
      ]
    },
    {
      "cell_type": "code",
      "metadata": {
        "id": "fmfyNkZOohLJ",
        "colab_type": "code",
        "outputId": "78d2d194-4ea6-44c6-e2b0-e568bc0cfd2e",
        "colab": {
          "base_uri": "https://localhost:8080/",
          "height": 378
        }
      },
      "source": [
        "fig,ax = plt.subplots(nrows=2,ncols=4,figsize=(14,6))\n",
        "indexs=[145,678,1456,13453]\n",
        "for index,l in zip(indexs,[(0,0),(0,2),(1,0),(1,2)]):\n",
        "  im = cv2.imread(\"images/{}.png\".format(submission.iloc[index].id))\n",
        "  ax[l[0]][l[1]].imshow(im)\n",
        "  ax[l[0]][l[1]+1].imshow(process_output(outputs[index]))"
      ],
      "execution_count": 18,
      "outputs": [
        {
          "output_type": "display_data",
          "data": {
            "image/png": "[encoded data removed]",
            "text/plain": [
              "<Figure size 1008x432 with 8 Axes>"
            ]
          },
          "metadata": {
            "tags": []
          }
        }
      ]
    },
    {
      "cell_type": "code",
      "metadata": {
        "id": "BJ32Rk1eo4gj",
        "colab_type": "code",
        "outputId": "da951b38-a1b9-4acf-8c8d-b575afdd3b50",
        "colab": {
          "base_uri": "https://localhost:8080/",
          "height": 286
        }
      },
      "source": [
        "img = np.array([ img_to_array( load_img('images/'+data.iloc[15].id+'.png', target_size = IMG_DIM ) ) ])/255\n",
        "temp = np.zeros((1,128,128,1))\n",
        "for unet in unets: temp += unet.predict(img)\n",
        "temp/=5\n",
        "plt.imshow(process_output(temp[0]))"
      ],
      "execution_count": 19,
      "outputs": [
        {
          "output_type": "execute_result",
          "data": {
            "text/plain": [
              "<matplotlib.image.AxesImage at 0x7efeec3bd6a0>"
            ]
          },
          "metadata": {
            "tags": []
          },
          "execution_count": 19
        },
        {
          "output_type": "display_data",
          "data": {
            "image/png": "[encoded data removed]",
            "text/plain": [
              "<Figure size 432x288 with 1 Axes>"
            ]
          },
          "metadata": {
            "tags": []
          }
        }
      ]
    },
    {
      "cell_type": "code",
      "metadata": {
        "id": "6F0vuPdUrWRn",
        "colab_type": "code",
        "outputId": "97f5d7ac-20fb-4a55-d7e9-72ea1a1a5b47",
        "colab": {
          "base_uri": "https://localhost:8080/",
          "height": 204
        }
      },
      "source": [
        "submission['rle_mask'] = [ rle_encode(process_output(o)) for o in outputs ]\n",
        "submission.head()"
      ],
      "execution_count": 20,
      "outputs": [
        {
          "output_type": "execute_result",
          "data": {
            "text/html": [
              "<div>\n",
              "<style scoped>\n",
              "    .dataframe tbody tr th:only-of-type {\n",
              "        vertical-align: middle;\n",
              "    }\n",
              "\n",
              "    .dataframe tbody tr th {\n",
              "        vertical-align: top;\n",
              "    }\n",
              "\n",
              "    .dataframe thead th {\n",
              "        text-align: right;\n",
              "    }\n",
              "</style>\n",
              "<table border=\"1\" class=\"dataframe\">\n",
              "  <thead>\n",
              "    <tr style=\"text-align: right;\">\n",
              "      <th></th>\n",
              "      <th>id</th>\n",
              "      <th>rle_mask</th>\n",
              "    </tr>\n",
              "  </thead>\n",
              "  <tbody>\n",
              "    <tr>\n",
              "      <th>0</th>\n",
              "      <td>155410d6fa</td>\n",
              "      <td>13 13 45 57 110 18 143 57 202 1 213 14 245 59 ...</td>\n",
              "    </tr>\n",
              "    <tr>\n",
              "      <th>1</th>\n",
              "      <td>78b32781d1</td>\n",
              "      <td>62 37 162 38 263 39 363 42 462 44 562 45 659 4...</td>\n",
              "    </tr>\n",
              "    <tr>\n",
              "      <th>2</th>\n",
              "      <td>63db2a476a</td>\n",
              "      <td>740 1 840 2 845 3 941 2 946 3 1040 3 1049 1 11...</td>\n",
              "    </tr>\n",
              "    <tr>\n",
              "      <th>3</th>\n",
              "      <td>17bfcdb967</td>\n",
              "      <td>100 2 199 1 201 2 300 1 302 2 401 4 501 5 602 ...</td>\n",
              "    </tr>\n",
              "    <tr>\n",
              "      <th>4</th>\n",
              "      <td>7ea0fd3c88</td>\n",
              "      <td>3838 1 3939 1 4040 1 4137 2 4140 2 4238 5 4338...</td>\n",
              "    </tr>\n",
              "  </tbody>\n",
              "</table>\n",
              "</div>"
            ],
            "text/plain": [
              "           id                                           rle_mask\n",
              "0  155410d6fa  13 13 45 57 110 18 143 57 202 1 213 14 245 59 ...\n",
              "1  78b32781d1  62 37 162 38 263 39 363 42 462 44 562 45 659 4...\n",
              "2  63db2a476a  740 1 840 2 845 3 941 2 946 3 1040 3 1049 1 11...\n",
              "3  17bfcdb967  100 2 199 1 201 2 300 1 302 2 401 4 501 5 602 ...\n",
              "4  7ea0fd3c88  3838 1 3939 1 4040 1 4137 2 4140 2 4238 5 4338..."
            ]
          },
          "metadata": {
            "tags": []
          },
          "execution_count": 20
        }
      ]
    },
    {
      "cell_type": "code",
      "metadata": {
        "id": "kSVGS9iFzS5m",
        "colab_type": "code",
        "colab": {}
      },
      "source": [
        "submission.to_csv('submission.csv',index=False)"
      ],
      "execution_count": 0,
      "outputs": []
    },
    {
      "cell_type": "code",
      "metadata": {
        "id": "CHvaHTjUzhsd",
        "colab_type": "code",
        "outputId": "725dd170-faab-476a-d8de-c49a8512c216",
        "colab": {
          "base_uri": "https://localhost:8080/",
          "height": 88
        }
      },
      "source": [
        "!kaggle competitions submit -c tgs-salt-identification-challenge -f submission.csv -m \"3. vgg+simple unet ensemble\""
      ],
      "execution_count": 23,
      "outputs": [
        {
          "output_type": "stream",
          "text": [
            "Warning: Your Kaggle API key is readable by other users on this system! To fix this, you can run 'chmod 600 /root/.kaggle/kaggle.json'\n",
            "100% 21.7M/21.7M [00:02<00:00, 10.2MB/s]\n",
            "Successfully submitted to TGS Salt Identification Challenge"
          ],
          "name": "stdout"
        }
      ]
    },
    {
      "cell_type": "code",
      "metadata": {
        "id": "-VquLeivz4rw",
        "colab_type": "code",
        "colab": {}
      },
      "source": [
        ""
      ],
      "execution_count": 0,
      "outputs": []
    }
  ]
}